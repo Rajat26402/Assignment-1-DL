{
 "cells": [
  {
   "cell_type": "markdown",
   "metadata": {},
   "source": [
    "Q1. Download the fashion-MNIST dataset and plot 1 sample image for each class as shown in the grid below. Use from keras.datasets import fashion_mnist for getting the fashion mnist dataset."
   ]
  },
  {
   "cell_type": "code",
   "execution_count": 14,
   "metadata": {},
   "outputs": [],
   "source": [
    "import pandas as pd\n",
    "import numpy as np\n",
    "from keras.datasets import fashion_mnist\n",
    "import wandb"
   ]
  },
  {
   "cell_type": "code",
   "execution_count": 15,
   "metadata": {},
   "outputs": [
    {
     "name": "stdout",
     "output_type": "stream",
     "text": [
      "Create sweep with ID: 2devlgbi\n",
      "Sweep URL: https://wandb.ai/da24m014-iit-madras/DLA1/sweeps/2devlgbi\n"
     ]
    }
   ],
   "source": [
    "sweep_config = {\n",
    "    'method': 'random',\n",
    "    'metric': {'name': 'accuracy', 'goal': 'maximize'},\n",
    "    'parameters': {\n",
    "        'learning_rate': {'values': [1e-3,1e-4]},\n",
    "        'batch_size': {'values': [16, 32, 64]},\n",
    "        'epochs': {'values': [5, 10]},\n",
    "        'hidden_layers': {'values': [3,4,5]},\n",
    "        'hidden_size': {'values': [32, 64, 128]},\n",
    "        'activation': {'values': ['relu', 'sigmoid','tanh']},\n",
    "        'optimizer': {'values': ['sgd', 'momentum','nesterov','rmsprop','adam','nadam']},\n",
    "        'weight_init': {'values': ['random', 'xavier']},\n",
    "        'weight_decay': {\"values\": [0,0.0005,0.5]}\n",
    "    },\n",
    "    \"run_cap\":100\n",
    "}\n",
    "\n",
    "# wandb.init(project=\"Assignment - 1\")  # Ensure WandB is initialized before using config\n",
    "# wandb.login()\n",
    "sweep_id = wandb.sweep(sweep_config, project=\"DLA1\")"
   ]
  },
  {
   "cell_type": "code",
   "execution_count": 16,
   "metadata": {},
   "outputs": [],
   "source": [
    "# wandb.init(project=\"DLA1\", entity=\"da24m014-iit-madras\")\n",
    "\n",
    "# # Load the Fashion-MNIST dataset\n",
    "# (x_train, y_train), (x_test, y_test) = fashion_mnist.load_data()\n",
    "\n",
    "\n",
    "\n",
    "# # Class names for Fashion-MNIST\n",
    "# class_names = ['T-shirt/top', 'Trouser', 'Pullover', 'Dress', 'Coat', \n",
    "#                'Sandal', 'Shirt', 'Sneaker', 'Bag', 'Ankle boot']\n",
    "\n",
    "# # Log sample images to wandb\n",
    "# sample_images = []\n",
    "# unique_classes = np.unique(y_train)\n",
    "\n",
    "# for cls in unique_classes:\n",
    "#     sample_idx = np.where(y_train == cls)[0][0]  # Find an example for the class\n",
    "#     img = x_train[sample_idx]\n",
    "    \n",
    "#     sample_images.append(wandb.Image(img, caption=class_names[cls]))\n",
    "\n",
    "# # Log images to wandb\n",
    "# wandb.log({\"Sample Images\": sample_images})\n",
    "\n",
    "# # Finish wandb run\n",
    "# wandb.finish()"
   ]
  },
  {
   "cell_type": "code",
   "execution_count": 17,
   "metadata": {},
   "outputs": [],
   "source": [
    "(x_train, y_train), (x_test, y_test) = fashion_mnist.load_data()\n",
    "x_train, x_test = x_train / 255.0, x_test / 255.0\n",
    "x_train, x_test = x_train.reshape(x_train.shape[0], -1), x_test.reshape(x_test.shape[0], -1)\n",
    "num_classes = 10"
   ]
  },
  {
   "cell_type": "code",
   "execution_count": 18,
   "metadata": {},
   "outputs": [],
   "source": [
    "def one_hot_encode(y, num_classes):\n",
    "    encoded = np.zeros((y.size,num_classes))\n",
    "    encoded[np.arange(y.size),y] = 1\n",
    "    return encoded\n",
    "\n",
    "y_train, y_test = one_hot_encode(y_train,num_classes), one_hot_encode(y_test, num_classes)"
   ]
  },
  {
   "cell_type": "code",
   "execution_count": 19,
   "metadata": {},
   "outputs": [],
   "source": [
    "split_idx = int(0.9*len(x_train))\n",
    "x_train, x_val = x_train[:split_idx], x_train[split_idx:]\n",
    "y_train, y_val = y_train[:split_idx], y_train[split_idx:]"
   ]
  },
  {
   "cell_type": "code",
   "execution_count": 20,
   "metadata": {},
   "outputs": [],
   "source": [
    "# Activation Functions\n",
    "def relu(Z):\n",
    "    return np.maximum(0, Z)\n",
    "\n",
    "def sigmoid(Z):\n",
    "    Z = np.clip(Z, -500, 500)\n",
    "    return 1 / (1 + np.exp(-Z))\n",
    "\n",
    "def tanh(Z):\n",
    "    return np.tanh(Z)\n",
    "\n",
    "def softmax(Z):\n",
    "    expZ = np.exp(Z - np.max(Z, axis=1, keepdims=True))\n",
    "    return expZ / np.sum(expZ, axis=1, keepdims=True)\n",
    "\n",
    "activation_functions = {\"relu\": relu, \"sigmoid\": sigmoid, \"tanh\": tanh}\n",
    "\n",
    "def relu_derivative(A):\n",
    "    return (A > 0).astype(float)\n",
    "\n",
    "def sigmoid_derivative(A):\n",
    "    return A * (1 - A)  # Works because in forward pass, A = sigmoid(Z)\n",
    "\n",
    "def tanh_derivative(A):\n",
    "    return 1 - A**2  # Works because in forward pass, A = tanh(Z)\n",
    "\n",
    "activation_derivatives = {\n",
    "    \"relu\": relu_derivative,\n",
    "    \"sigmoid\": sigmoid_derivative,\n",
    "    \"tanh\": tanh_derivative\n",
    "}\n"
   ]
  },
  {
   "cell_type": "code",
   "execution_count": null,
   "metadata": {},
   "outputs": [],
   "source": [
    "# Stochastic Gradient Descent (SGD)\n",
    "def sgd_update(weights, biases, grads_W, grads_b, learning_rate):\n",
    "    for i in range(len(weights)):\n",
    "        weights[i] -= learning_rate * grads_W[i]\n",
    "        biases[i] -= learning_rate * grads_b[i]\n",
    "\n",
    "# Momentum Optimizer\n",
    "def momentum_update(weights, biases, grads_W, grads_b, learning_rate, velocity_W, velocity_b, momentum=0.5):\n",
    "    for i in range(len(weights)):\n",
    "        velocity_W[i] = momentum * velocity_W[i] - learning_rate * grads_W[i]\n",
    "        velocity_b[i] = momentum * velocity_b[i] - learning_rate * grads_b[i]  # Corrected\n",
    "\n",
    "        weights[i] += velocity_W[i]\n",
    "        biases[i] += velocity_b[i] # Fixed Bias Update\n",
    "\n",
    "# Nesterov Accelerated Gradient (NAG)\n",
    "def nesterov_update(weights, biases, grads_W, grads_b, learning_rate, velocity_W,velocity_b, momentum=0.5):\n",
    "    for i in range(len(weights)):\n",
    "        # Compute lookahead position\n",
    "        lookahead_W = weights[i] + momentum * velocity_W[i]\n",
    "        lookahead_b = biases[i] + momentum * velocity_b[i]  # Corrected\n",
    "\n",
    "        # Update velocity\n",
    "        velocity_W[i] = momentum * velocity_W[i] - learning_rate * grads_W[i]\n",
    "        velocity_b[i] = momentum * velocity_b[i] - learning_rate * grads_b[i]  # Corrected\n",
    "\n",
    "        # Update weights and biases with corrected lookahead step\n",
    "        weights[i] = lookahead_W + velocity_W[i]\n",
    "        biases[i] = lookahead_b + velocity_b[i]\n",
    "\n",
    "# RMSprop Optimizer\n",
    "def rmsprop_update(weights, biases, grads_W, grads_b, learning_rate, velocity_W, velocity_b, beta=0.5, epsilon=1e-6):\n",
    "    for i in range(len(weights)):\n",
    "        # Update velocity for weights and biases separately\n",
    "        velocity_W[i] = beta * velocity_W[i] + (1 - beta) * (grads_W[i] ** 2)\n",
    "        velocity_b[i] = beta * velocity_b[i] + (1 - beta) * (grads_b[i] ** 2)\n",
    "\n",
    "        # Update weights\n",
    "        weights[i] -= learning_rate * grads_W[i] / (np.sqrt(velocity_W[i]) + epsilon)\n",
    "\n",
    "        # Update biases\n",
    "        biases[i] -= learning_rate * grads_b[i] / (np.sqrt(velocity_b[i]) + epsilon)\n",
    "\n",
    "# Adam Optimizer\n",
    "# Adam Optimizer\n",
    "def adam_update(weights, biases, grads_W, grads_b, learning_rate, velocity_W, velocity_b, moment2_W, moment2_b, beta1=0.5, beta2=0.5, epsilon=1e-6, t=1):\n",
    "    for i in range(len(weights)):\n",
    "        # First moment estimate\n",
    "        velocity_W[i] = beta1 * velocity_W[i] + (1 - beta1) * grads_W[i]\n",
    "        velocity_b[i] = beta1 * velocity_b[i] + (1 - beta1) * grads_b[i]\n",
    "\n",
    "        # Second moment estimate\n",
    "        moment2_W[i] = beta2 * moment2_W[i] + (1 - beta2) * (grads_W[i] ** 2)\n",
    "        moment2_b[i] = beta2 * moment2_b[i] + (1 - beta2) * (grads_b[i] ** 2)\n",
    "\n",
    "        # Bias correction\n",
    "        velocity_W_corrected = velocity_W[i] / (1 - beta1 ** t)\n",
    "        velocity_b_corrected = velocity_b[i] / (1 - beta1 ** t)\n",
    "\n",
    "        moment2_W_corrected = moment2_W[i] / (1 - beta2 ** t)\n",
    "        moment2_b_corrected = moment2_b[i] / (1 - beta2 ** t)\n",
    "\n",
    "        # Check and correct shape mismatch\n",
    "        if moment2_b_corrected.shape != biases[i].shape:\n",
    "            print(f\"Shape mismatch at layer {i}: {moment2_b_corrected.shape} vs {biases[i].shape}\")\n",
    "            moment2_b_corrected = np.reshape(moment2_b_corrected, biases[i].shape)\n",
    "\n",
    "        # Parameter update\n",
    "        weights[i] -= learning_rate * velocity_W_corrected / (np.sqrt(moment2_W_corrected) + epsilon)\n",
    "        biases[i] -= learning_rate * velocity_b_corrected / (np.sqrt(moment2_b_corrected) + epsilon)\n",
    "\n",
    "    return t + 1  # Increment time step\n",
    "\n",
    "def nadam_update(weights, biases, grads_W, grads_b, learning_rate, velocity_W, velocity_b, moment2_W, moment2_b, beta1=0.5, beta2=0.5, epsilon=1e-6, t=1):\n",
    "    for i in range(len(weights)):\n",
    "        # First moment estimate\n",
    "        velocity_W[i] = beta1 * velocity_W[i] + (1 - beta1) * grads_W[i]\n",
    "        velocity_b[i] = beta1 * velocity_b[i] + (1 - beta1) * grads_b[i]\n",
    "\n",
    "        # Second moment estimate\n",
    "        moment2_W[i] = beta2 * moment2_W[i] + (1 - beta2) * (grads_W[i] ** 2)\n",
    "        moment2_b[i] = beta2 * moment2_b[i] + (1 - beta2) * (grads_b[i] ** 2)\n",
    "\n",
    "        # Bias correction\n",
    "        velocity_W_corrected = (beta1 * velocity_W[i] + (1 - beta1) * grads_W[i]) / (1 - beta1 ** t)\n",
    "        velocity_b_corrected = (beta1 * velocity_b[i] + (1 - beta1) * grads_b[i]) / (1 - beta1 ** t)\n",
    "\n",
    "        moment2_W_corrected = moment2_W[i] / (1 - beta2 ** t)\n",
    "        moment2_b_corrected = moment2_b[i] / (1 - beta2 ** t)\n",
    "\n",
    "        # Parameter update\n",
    "        weights[i] -= learning_rate * velocity_W_corrected / (np.sqrt(moment2_W_corrected) + epsilon)\n",
    "        biases[i] -= learning_rate * velocity_b_corrected / (np.sqrt(moment2_b_corrected) + epsilon)\n",
    "\n",
    "    return t + 1  # Increment time step\n"
   ]
  },
  {
   "cell_type": "code",
   "execution_count": 22,
   "metadata": {},
   "outputs": [],
   "source": [
    "\n",
    "# class NeuralNetwork:\n",
    "#     def __init__(self, layers, learning_rate=0.1, activation=\"sigmoid\", optimizer=\"sgd\",\n",
    "#                  weight_init=\"random\", weight_decay=0.0, beta=0.5, beta1=0.5, beta2=0.5, epsilon=1e-6):\n",
    "#         self.layers = layers\n",
    "#         self.activation = activation\n",
    "#         self.optimizer = optimizer\n",
    "#         self.learning_rate = learning_rate\n",
    "#         self.weight_init = weight_init\n",
    "#         self.weight_decay = weight_decay\n",
    "#         self.beta = beta\n",
    "#         self.beta1 = beta1\n",
    "#         self.beta2 = beta2\n",
    "#         self.epsilon = epsilon\n",
    "        \n",
    "#         self.init_weights(weight_init)\n",
    "\n",
    "#         # Optimizer-specific parameters\n",
    "#         self.velocity_W = [np.zeros_like(W) for W in self.weights]\n",
    "#         self.velocity_b = [np.zeros_like(b) for b in self.biases]\n",
    "#         self.moment2_W = [np.zeros_like(W) for W in self.weights]\n",
    "#         self.moment2_b = [np.zeros_like(b) for b in self.biases]\n",
    "#         self.t = 0  # Timestep for Adam/Nadam\n",
    "\n",
    "#         # Store best model\n",
    "#         global best_model_data\n",
    "#         best_model_data = {\n",
    "#             \"weights\": None,\n",
    "#             \"biases\": None,\n",
    "#             \"params\": None,\n",
    "#             \"best_accuracy\": 0\n",
    "#         }\n",
    "\n",
    "#     def init_weights(self, method):\n",
    "#         self.weights = []\n",
    "#         self.biases = []\n",
    "#         for i in range(len(self.layers) - 1):\n",
    "#             if method == \"xavier\":\n",
    "#                 limit = np.sqrt(6 / (self.layers[i] + self.layers[i+1]))\n",
    "#             else:\n",
    "#                 limit = 0.1\n",
    "#             W = np.random.uniform(-limit, limit, (self.layers[i], self.layers[i+1]))\n",
    "#             self.weights.append(W)\n",
    "#             self.biases.append(np.zeros((1, self.layers[i+1])))\n",
    "\n",
    "#     def forward(self, X):\n",
    "#         self.A = [X]\n",
    "#         for i in range(len(self.weights) - 1):\n",
    "#             Z = self.A[-1] @ self.weights[i] + self.biases[i]\n",
    "#             A = activation_functions[self.activation](Z)\n",
    "#             self.A.append(A)\n",
    "#         Z = self.A[-1] @ self.weights[-1] + self.biases[-1]\n",
    "#         A = softmax(Z)\n",
    "#         self.A.append(A)\n",
    "#         return A\n",
    "\n",
    "#     def compute_loss(self, y_true, y_pred):\n",
    "#         loss = -np.mean(np.sum(y_true * np.log(y_pred + 1e-8), axis=1))\n",
    "#         loss += (self.weight_decay / 2) * sum(np.sum(W**2) for W in self.weights)\n",
    "#         return loss\n",
    "\n",
    "#     def backward(self, X, y):\n",
    "#         grads_W, grads_b = [], []\n",
    "#         dA = self.A[-1] - y\n",
    "#         for i in reversed(range(len(self.weights))):\n",
    "#             dW = self.A[i].T @ dA / X.shape[0]\n",
    "#             db = np.sum(dA, axis=0, keepdims=True) / X.shape[0]\n",
    "#             dW += self.weight_decay * self.weights[i]\n",
    "#             grads_W.append(dW)\n",
    "#             grads_b.append(db)\n",
    "#             if i > 0:\n",
    "#                 dA = (dA @ self.weights[i].T) * activation_derivatives[self.activation](self.A[i])        \n",
    "#         return grads_W[::-1], grads_b[::-1]\n",
    "\n",
    "#     def train(self, X_train, y_train, x_val, y_val, epochs, batch_size):\n",
    "#         num_samples = X_train.shape[0]\n",
    "\n",
    "#         for epoch in range(epochs):\n",
    "#             indices = np.random.permutation(num_samples)\n",
    "#             X_train, y_train = X_train[indices], y_train[indices]\n",
    "\n",
    "#             total_loss, total_acc = 0, 0\n",
    "#             num_batches = num_samples // batch_size\n",
    "\n",
    "#             for i in range(0, num_samples, batch_size):\n",
    "#                 X_batch = X_train[i:i + batch_size]\n",
    "#                 y_batch = y_train[i:i + batch_size]\n",
    "\n",
    "#                 # Forward Pass\n",
    "#                 y_pred = self.forward(X_batch)\n",
    "\n",
    "#                 # Compute Loss & Accuracy\n",
    "#                 loss = self.compute_loss(y_batch, y_pred)\n",
    "#                 acc = np.mean(np.argmax(y_pred, axis=1) == np.argmax(y_batch, axis=1))\n",
    "\n",
    "#                 total_loss += loss * len(X_batch)\n",
    "#                 total_acc += acc * len(X_batch)\n",
    "\n",
    "#                 # Backward Pass\n",
    "#                 grads_W, grads_b = self.backward(X_batch, y_batch)\n",
    "\n",
    "#                 # Update Weights using the selected optimizer\n",
    "#                 self.t += 1\n",
    "#                 if self.optimizer == \"sgd\":\n",
    "#                     sgd_update(self.weights, self.biases, grads_W, grads_b, self.learning_rate)\n",
    "#                 elif self.optimizer == \"momentum\":\n",
    "#                     momentum_update(self.weights, self.biases, grads_W, grads_b, self.learning_rate, self.velocity_W,self.velocity_b)\n",
    "#                 elif self.optimizer == \"nesterov\":\n",
    "#                     nesterov_update(self.weights, self.biases, grads_W, grads_b, self.learning_rate, self.velocity_W,self.velocity_b)\n",
    "#                 elif self.optimizer == \"rmsprop\":\n",
    "#                     rmsprop_update(self.weights, self.biases, grads_W, grads_b, self.learning_rate, self.velocity_W,self.velocity_b, self.beta, self.epsilon)\n",
    "#                 elif self.optimizer == \"adam\":\n",
    "#                     adam_update(self.weights, self.biases, grads_W, grads_b, self.learning_rate, self.velocity_W,self.velocity_b,self.moment2_W, self.moment2_b, self.beta1, self.beta2, self.epsilon, self.t)\n",
    "#                 elif self.optimizer == \"nadam\":\n",
    "#                     nadam_update(self.weights, self.biases, grads_W, grads_b, self.learning_rate, self.velocity_W,self.velocity_b,self.moment2_W, self.moment2_b, self.beta1, self.beta2, self.epsilon, self.t)  # Generic optimizer function\n",
    "\n",
    "#             # Compute average loss and accuracy for the epoch\n",
    "#             avg_loss = total_loss / num_samples\n",
    "#             avg_acc = total_acc / num_samples\n",
    "\n",
    "#             # Validation Metrics\n",
    "#             y_val_pred = self.forward(x_val)\n",
    "#             val_loss = self.compute_loss(y_val, y_val_pred)\n",
    "#             val_acc = np.mean(np.argmax(y_val_pred, axis=1) == np.argmax(y_val, axis=1))\n",
    "\n",
    "#             # Save Best Model (Outside Class)\n",
    "#             global best_model_data\n",
    "#             if val_acc > best_model_data[\"best_accuracy\"]:\n",
    "#                 best_model_data = {\n",
    "#                     \"weights\": [W.copy() for W in self.weights],\n",
    "#                     \"biases\": [b.copy() for b in self.biases],\n",
    "#                     \"params\": {\n",
    "#                         \"layers\": self.layers,\n",
    "#                         \"learning_rate\": self.learning_rate,\n",
    "#                         \"activation\": self.activation,\n",
    "#                         \"optimizer\": self.optimizer,\n",
    "#                         \"weight_init\": self.weight_init,\n",
    "#                         \"weight_decay\": self.weight_decay,\n",
    "#                         \"beta\": self.beta,\n",
    "#                         \"beta1\": self.beta1,\n",
    "#                         \"beta2\": self.beta2,\n",
    "#                         \"epsilon\": self.epsilon,\n",
    "#                     },\n",
    "#                     \"best_accuracy\": val_acc\n",
    "#                 }\n",
    "\n",
    "#             # Log to Weights & Biases\n",
    "#             wandb.log({\"epoch\": epoch + 1, \"loss\": avg_loss, \"accuracy\": avg_acc, \"val_loss\": val_loss, \"val_accuracy\": val_acc})\n",
    "\n"
   ]
  },
  {
   "cell_type": "code",
   "execution_count": 23,
   "metadata": {},
   "outputs": [],
   "source": [
    "class NeuralNetwork:\n",
    "    def __init__(self, layers, learning_rate=0.1, activation=\"sigmoid\", optimizer=\"sgd\",\n",
    "                 weight_init=\"random\", weight_decay=0.0, beta=0.5, beta1=0.5, beta2=0.5, epsilon=1e-6):\n",
    "        self.layers = layers\n",
    "        self.activation = activation\n",
    "        self.optimizer = optimizer\n",
    "        self.learning_rate = learning_rate\n",
    "        self.weight_init = weight_init\n",
    "        self.weight_decay = weight_decay\n",
    "        self.beta = beta\n",
    "        self.beta1 = beta1\n",
    "        self.beta2 = beta2\n",
    "        self.epsilon = epsilon\n",
    "\n",
    "        self.init_weights(weight_init)\n",
    "\n",
    "        # Optimizer-specific parameters\n",
    "        self.velocity_W = [np.zeros_like(W) for W in self.weights]\n",
    "        self.velocity_b = [np.zeros_like(b) for b in self.biases]\n",
    "        self.moment2_W = [np.zeros_like(W) for W in self.weights]\n",
    "        self.moment2_b = [np.zeros_like(b) for b in self.biases]\n",
    "        self.t = 0  # Timestep for Adam/Nadam\n",
    "\n",
    "        # Store best model\n",
    "        global best_model_data\n",
    "        best_model_data = {\n",
    "            \"weights\": None,\n",
    "            \"biases\": None,\n",
    "            \"params\": None,\n",
    "            \"best_accuracy\": 0\n",
    "        }\n",
    "\n",
    "    def init_weights(self, method):\n",
    "        self.weights = []\n",
    "        self.biases = []\n",
    "        for i in range(len(self.layers) - 1):\n",
    "            if method == \"xavier\":\n",
    "                limit = np.sqrt(6 / (self.layers[i] + self.layers[i+1]))\n",
    "            else:\n",
    "                limit = 0.1\n",
    "            W = np.random.uniform(-limit, limit, (self.layers[i], self.layers[i+1]))\n",
    "            self.weights.append(W)\n",
    "            self.biases.append(np.zeros((1, self.layers[i+1])))\n",
    "\n",
    "    def forward(self, X):\n",
    "        self.A = [X]\n",
    "        for i in range(len(self.weights) - 1):\n",
    "            Z = self.A[-1] @ self.weights[i] + self.biases[i]\n",
    "            A = activation_functions[self.activation](Z)\n",
    "            self.A.append(A)\n",
    "        Z = self.A[-1] @ self.weights[-1] + self.biases[-1]\n",
    "        A = softmax(Z)\n",
    "        self.A.append(A)\n",
    "        return A\n",
    "\n",
    "    def compute_loss(self, y_true, y_pred):\n",
    "        loss = -np.mean(np.sum(y_true * np.log(y_pred + 1e-8), axis=1))\n",
    "        loss += (self.weight_decay / 2) * sum(np.sum(W**2) for W in self.weights)\n",
    "        return loss\n",
    "\n",
    "    def backward(self, X, y):\n",
    "        grads_W, grads_b = [], []\n",
    "        dA = self.A[-1] - y\n",
    "        for i in reversed(range(len(self.weights))):\n",
    "            dW = self.A[i].T @ dA / X.shape[0]\n",
    "            db = np.sum(dA, axis=0, keepdims=True) / X.shape[0]\n",
    "            dW += self.weight_decay * self.weights[i]\n",
    "            grads_W.append(dW)\n",
    "            grads_b.append(db)\n",
    "            if i > 0:\n",
    "                dA = (dA @ self.weights[i].T) * activation_derivatives[self.activation](self.A[i])\n",
    "        return grads_W[::-1], grads_b[::-1]\n",
    "\n",
    "    def train(self, X_train, y_train, X_val, y_val, epochs, batch_size):\n",
    "        from sklearn.metrics import confusion_matrix\n",
    "        import wandb\n",
    "        \n",
    "        num_samples = X_train.shape[0]\n",
    "\n",
    "        for epoch in range(epochs):\n",
    "            indices = np.random.permutation(num_samples)\n",
    "            X_train, y_train = X_train[indices], y_train[indices]\n",
    "\n",
    "            total_loss, total_acc = 0, 0\n",
    "            num_batches = num_samples // batch_size\n",
    "\n",
    "            for i in range(0, num_samples, batch_size):\n",
    "                X_batch = X_train[i:i + batch_size]\n",
    "                y_batch = y_train[i:i + batch_size]\n",
    "\n",
    "                # Forward Pass\n",
    "                y_pred = self.forward(X_batch)\n",
    "\n",
    "                # Compute Loss & Accuracy\n",
    "                loss = self.compute_loss(y_batch, y_pred)\n",
    "                acc = np.mean(np.argmax(y_pred, axis=1) == np.argmax(y_batch, axis=1))\n",
    "\n",
    "                total_loss += loss * len(X_batch)\n",
    "                total_acc += acc * len(X_batch)\n",
    "\n",
    "                # Backward Pass\n",
    "                grads_W, grads_b = self.backward(X_batch, y_batch)\n",
    "\n",
    "                # Update Weights using the selected optimizer\n",
    "                self.t += 1\n",
    "                if self.optimizer == \"sgd\":\n",
    "                    sgd_update(self.weights, self.biases, grads_W, grads_b, self.learning_rate)\n",
    "                elif self.optimizer == \"momentum\":\n",
    "                    momentum_update(self.weights, self.biases, grads_W, grads_b, self.learning_rate, self.velocity_W, self.velocity_b)\n",
    "                elif self.optimizer == \"nesterov\":\n",
    "                    nesterov_update(self.weights, self.biases, grads_W, grads_b, self.learning_rate, self.velocity_W, self.velocity_b)\n",
    "                elif self.optimizer == \"rmsprop\":\n",
    "                    rmsprop_update(self.weights, self.biases, grads_W, grads_b, self.learning_rate, self.velocity_W, self.velocity_b, self.beta, self.epsilon)\n",
    "                elif self.optimizer == \"adam\":\n",
    "                    adam_update(self.weights, self.biases, grads_W, grads_b, self.learning_rate, self.velocity_W, self.velocity_b, self.moment2_W, self.moment2_b, self.beta1, self.beta2, self.epsilon, self.t)\n",
    "                elif self.optimizer == \"nadam\":\n",
    "                    nadam_update(self.weights, self.biases, grads_W, grads_b, self.learning_rate, self.velocity_W, self.velocity_b, self.moment2_W, self.moment2_b, self.beta1, self.beta2, self.epsilon, self.t)\n",
    "\n",
    "            # Compute average loss and accuracy for the epoch\n",
    "            avg_loss = total_loss / num_samples\n",
    "            avg_acc = total_acc / num_samples\n",
    "\n",
    "            # Validation Metrics\n",
    "            y_val_pred = self.forward(X_val)\n",
    "            val_loss = self.compute_loss(y_val, y_val_pred)\n",
    "            val_acc = np.mean(np.argmax(y_val_pred, axis=1) == np.argmax(y_val, axis=1))\n",
    "\n",
    "            # Save Best Model\n",
    "            global best_model_data\n",
    "            if val_acc > best_model_data[\"best_accuracy\"]:\n",
    "                best_model_data = {\n",
    "                    \"weights\": [W.copy() for W in self.weights],\n",
    "                    \"biases\": [b.copy() for b in self.biases],\n",
    "                    \"params\": {\n",
    "                        \"layers\": self.layers,\n",
    "                        \"learning_rate\": self.learning_rate,\n",
    "                        \"activation\": self.activation,\n",
    "                        \"optimizer\": self.optimizer,\n",
    "                        \"weight_init\": self.weight_init,\n",
    "                        \"weight_decay\": self.weight_decay,\n",
    "                        \"beta\": self.beta,\n",
    "                        \"beta1\": self.beta1,\n",
    "                        \"beta2\": self.beta2,\n",
    "                        \"epsilon\": self.epsilon,\n",
    "                    },\n",
    "                    \"best_accuracy\": val_acc\n",
    "                }\n",
    "            \n",
    "            # Log to Weights & Biases\n",
    "            wandb.log({\n",
    "                \"epoch\": epoch + 1, \n",
    "                \"loss\": avg_loss, \n",
    "                \"accuracy\": avg_acc, \n",
    "                \"val_loss\": val_loss, \n",
    "                \"val_accuracy\": val_acc\n",
    "            })\n",
    "            \n",
    "        # Log confusion matrix at the end of training\n",
    "        # Get predictions using final model\n",
    "        y_val_pred = self.forward(X_val)\n",
    "        y_val_pred_classes = np.argmax(y_val_pred, axis=1)\n",
    "        y_val_true_classes = np.argmax(y_val, axis=1)\n",
    "        \n",
    "        # Compute confusion matrix\n",
    "        cm = confusion_matrix(y_val_true_classes, y_val_pred_classes)\n",
    "        \n",
    "        # Class names for Fashion-MNIST\n",
    "        class_names = ['T-shirt/top', 'Trouser', 'Pullover', 'Dress', 'Coat',\n",
    "                      'Sandal', 'Shirt', 'Sneaker', 'Bag', 'Ankle boot']\n",
    "        \n",
    "        # Log confusion matrix\n",
    "        wandb.log({\n",
    "            \"confusion_matrix\": wandb.plot.confusion_matrix(\n",
    "                probs=None,\n",
    "                y_true=y_val_true_classes,\n",
    "                preds=y_val_pred_classes,\n",
    "                class_names=class_names\n",
    "            )\n",
    "        })\n",
    "\n"
   ]
  },
  {
   "cell_type": "code",
   "execution_count": null,
   "metadata": {},
   "outputs": [
    {
     "name": "stderr",
     "output_type": "stream",
     "text": [
      "\u001b[34m\u001b[1mwandb\u001b[0m: Agent Starting Run: zf0mkg6x with config:\n",
      "\u001b[34m\u001b[1mwandb\u001b[0m: \tactivation: tanh\n",
      "\u001b[34m\u001b[1mwandb\u001b[0m: \tbatch_size: 32\n",
      "\u001b[34m\u001b[1mwandb\u001b[0m: \tepochs: 10\n",
      "\u001b[34m\u001b[1mwandb\u001b[0m: \thidden_layers: 3\n",
      "\u001b[34m\u001b[1mwandb\u001b[0m: \thidden_size: 64\n",
      "\u001b[34m\u001b[1mwandb\u001b[0m: \tlearning_rate: 0.0001\n",
      "\u001b[34m\u001b[1mwandb\u001b[0m: \toptimizer: sgd\n",
      "\u001b[34m\u001b[1mwandb\u001b[0m: \tweight_decay: 0\n",
      "\u001b[34m\u001b[1mwandb\u001b[0m: \tweight_init: random\n"
     ]
    },
    {
     "data": {
      "text/html": [
       "Ignoring project 'DLA1' when running a sweep."
      ],
      "text/plain": [
       "<IPython.core.display.HTML object>"
      ]
     },
     "metadata": {},
     "output_type": "display_data"
    },
    {
     "data": {
      "text/html": [
       "Ignoring entity 'da24m014' when running a sweep."
      ],
      "text/plain": [
       "<IPython.core.display.HTML object>"
      ]
     },
     "metadata": {},
     "output_type": "display_data"
    },
    {
     "data": {
      "text/html": [
       "creating run (0.3s)"
      ],
      "text/plain": [
       "<IPython.core.display.HTML object>"
      ]
     },
     "metadata": {},
     "output_type": "display_data"
    },
    {
     "data": {
      "text/html": [
       "Tracking run with wandb version 0.19.7"
      ],
      "text/plain": [
       "<IPython.core.display.HTML object>"
      ]
     },
     "metadata": {},
     "output_type": "display_data"
    },
    {
     "data": {
      "text/html": [
       "Run data is saved locally in <code>d:\\IIT Madras\\SEM 2\\Deep Learning\\Assignment-1-DL\\wandb\\run-20250310_082255-zf0mkg6x</code>"
      ],
      "text/plain": [
       "<IPython.core.display.HTML object>"
      ]
     },
     "metadata": {},
     "output_type": "display_data"
    },
    {
     "data": {
      "text/html": [
       "Syncing run <strong><a href='https://wandb.ai/da24m014-iit-madras/DLA1/runs/zf0mkg6x' target=\"_blank\">faithful-sweep-1</a></strong> to <a href='https://wandb.ai/da24m014-iit-madras/DLA1' target=\"_blank\">Weights & Biases</a> (<a href='https://wandb.me/developer-guide' target=\"_blank\">docs</a>)<br>Sweep page: <a href='https://wandb.ai/da24m014-iit-madras/DLA1/sweeps/2devlgbi' target=\"_blank\">https://wandb.ai/da24m014-iit-madras/DLA1/sweeps/2devlgbi</a>"
      ],
      "text/plain": [
       "<IPython.core.display.HTML object>"
      ]
     },
     "metadata": {},
     "output_type": "display_data"
    },
    {
     "data": {
      "text/html": [
       " View project at <a href='https://wandb.ai/da24m014-iit-madras/DLA1' target=\"_blank\">https://wandb.ai/da24m014-iit-madras/DLA1</a>"
      ],
      "text/plain": [
       "<IPython.core.display.HTML object>"
      ]
     },
     "metadata": {},
     "output_type": "display_data"
    },
    {
     "data": {
      "text/html": [
       " View sweep at <a href='https://wandb.ai/da24m014-iit-madras/DLA1/sweeps/2devlgbi' target=\"_blank\">https://wandb.ai/da24m014-iit-madras/DLA1/sweeps/2devlgbi</a>"
      ],
      "text/plain": [
       "<IPython.core.display.HTML object>"
      ]
     },
     "metadata": {},
     "output_type": "display_data"
    },
    {
     "data": {
      "text/html": [
       " View run at <a href='https://wandb.ai/da24m014-iit-madras/DLA1/runs/zf0mkg6x' target=\"_blank\">https://wandb.ai/da24m014-iit-madras/DLA1/runs/zf0mkg6x</a>"
      ],
      "text/plain": [
       "<IPython.core.display.HTML object>"
      ]
     },
     "metadata": {},
     "output_type": "display_data"
    },
    {
     "data": {
      "text/html": [],
      "text/plain": [
       "<IPython.core.display.HTML object>"
      ]
     },
     "metadata": {},
     "output_type": "display_data"
    },
    {
     "data": {
      "text/html": [
       "<br>    <style><br>        .wandb-row {<br>            display: flex;<br>            flex-direction: row;<br>            flex-wrap: wrap;<br>            justify-content: flex-start;<br>            width: 100%;<br>        }<br>        .wandb-col {<br>            display: flex;<br>            flex-direction: column;<br>            flex-basis: 100%;<br>            flex: 1;<br>            padding: 10px;<br>        }<br>    </style><br><div class=\"wandb-row\"><div class=\"wandb-col\"><h3>Run history:</h3><br/><table class=\"wandb\"><tr><td>accuracy</td><td>▁▂▃▃▄▄▅▆▇█</td></tr><tr><td>epoch</td><td>▁▂▃▃▄▅▆▆▇█</td></tr><tr><td>loss</td><td>█▇▇▆▅▄▄▃▂▁</td></tr><tr><td>val_accuracy</td><td>▁▂▂▃▃▄▅▆▇█</td></tr><tr><td>val_loss</td><td>█▇▇▆▅▅▄▃▂▁</td></tr></table><br/></div><div class=\"wandb-col\"><h3>Run summary:</h3><br/><table class=\"wandb\"><tr><td>accuracy</td><td>0.36902</td></tr><tr><td>epoch</td><td>10</td></tr><tr><td>loss</td><td>2.23328</td></tr><tr><td>val_accuracy</td><td>0.3839</td></tr><tr><td>val_loss</td><td>2.22736</td></tr></table><br/></div></div>"
      ],
      "text/plain": [
       "<IPython.core.display.HTML object>"
      ]
     },
     "metadata": {},
     "output_type": "display_data"
    },
    {
     "data": {
      "text/html": [
       " View run <strong style=\"color:#cdcd00\">hl_3_bs_32_ac_tanh</strong> at: <a href='https://wandb.ai/da24m014-iit-madras/DLA1/runs/zf0mkg6x' target=\"_blank\">https://wandb.ai/da24m014-iit-madras/DLA1/runs/zf0mkg6x</a><br> View project at: <a href='https://wandb.ai/da24m014-iit-madras/DLA1' target=\"_blank\">https://wandb.ai/da24m014-iit-madras/DLA1</a><br>Synced 5 W&B file(s), 1 media file(s), 2 artifact file(s) and 0 other file(s)"
      ],
      "text/plain": [
       "<IPython.core.display.HTML object>"
      ]
     },
     "metadata": {},
     "output_type": "display_data"
    },
    {
     "data": {
      "text/html": [
       "Find logs at: <code>.\\wandb\\run-20250310_082255-zf0mkg6x\\logs</code>"
      ],
      "text/plain": [
       "<IPython.core.display.HTML object>"
      ]
     },
     "metadata": {},
     "output_type": "display_data"
    },
    {
     "name": "stderr",
     "output_type": "stream",
     "text": [
      "\u001b[34m\u001b[1mwandb\u001b[0m: Agent Starting Run: nh1vngp3 with config:\n",
      "\u001b[34m\u001b[1mwandb\u001b[0m: \tactivation: relu\n",
      "\u001b[34m\u001b[1mwandb\u001b[0m: \tbatch_size: 32\n",
      "\u001b[34m\u001b[1mwandb\u001b[0m: \tepochs: 10\n",
      "\u001b[34m\u001b[1mwandb\u001b[0m: \thidden_layers: 5\n",
      "\u001b[34m\u001b[1mwandb\u001b[0m: \thidden_size: 64\n",
      "\u001b[34m\u001b[1mwandb\u001b[0m: \tlearning_rate: 0.001\n",
      "\u001b[34m\u001b[1mwandb\u001b[0m: \toptimizer: sgd\n",
      "\u001b[34m\u001b[1mwandb\u001b[0m: \tweight_decay: 0\n",
      "\u001b[34m\u001b[1mwandb\u001b[0m: \tweight_init: random\n"
     ]
    },
    {
     "data": {
      "text/html": [
       "Ignoring project 'DLA1' when running a sweep."
      ],
      "text/plain": [
       "<IPython.core.display.HTML object>"
      ]
     },
     "metadata": {},
     "output_type": "display_data"
    },
    {
     "data": {
      "text/html": [
       "Ignoring entity 'da24m014' when running a sweep."
      ],
      "text/plain": [
       "<IPython.core.display.HTML object>"
      ]
     },
     "metadata": {},
     "output_type": "display_data"
    },
    {
     "data": {
      "text/html": [
       "creating run (0.3s)"
      ],
      "text/plain": [
       "<IPython.core.display.HTML object>"
      ]
     },
     "metadata": {},
     "output_type": "display_data"
    },
    {
     "data": {
      "text/html": [
       "Tracking run with wandb version 0.19.7"
      ],
      "text/plain": [
       "<IPython.core.display.HTML object>"
      ]
     },
     "metadata": {},
     "output_type": "display_data"
    },
    {
     "data": {
      "text/html": [
       "Run data is saved locally in <code>d:\\IIT Madras\\SEM 2\\Deep Learning\\Assignment-1-DL\\wandb\\run-20250310_082327-nh1vngp3</code>"
      ],
      "text/plain": [
       "<IPython.core.display.HTML object>"
      ]
     },
     "metadata": {},
     "output_type": "display_data"
    },
    {
     "data": {
      "text/html": [
       "Syncing run <strong><a href='https://wandb.ai/da24m014-iit-madras/DLA1/runs/nh1vngp3' target=\"_blank\">lyric-sweep-2</a></strong> to <a href='https://wandb.ai/da24m014-iit-madras/DLA1' target=\"_blank\">Weights & Biases</a> (<a href='https://wandb.me/developer-guide' target=\"_blank\">docs</a>)<br>Sweep page: <a href='https://wandb.ai/da24m014-iit-madras/DLA1/sweeps/2devlgbi' target=\"_blank\">https://wandb.ai/da24m014-iit-madras/DLA1/sweeps/2devlgbi</a>"
      ],
      "text/plain": [
       "<IPython.core.display.HTML object>"
      ]
     },
     "metadata": {},
     "output_type": "display_data"
    },
    {
     "data": {
      "text/html": [
       " View project at <a href='https://wandb.ai/da24m014-iit-madras/DLA1' target=\"_blank\">https://wandb.ai/da24m014-iit-madras/DLA1</a>"
      ],
      "text/plain": [
       "<IPython.core.display.HTML object>"
      ]
     },
     "metadata": {},
     "output_type": "display_data"
    },
    {
     "data": {
      "text/html": [
       " View sweep at <a href='https://wandb.ai/da24m014-iit-madras/DLA1/sweeps/2devlgbi' target=\"_blank\">https://wandb.ai/da24m014-iit-madras/DLA1/sweeps/2devlgbi</a>"
      ],
      "text/plain": [
       "<IPython.core.display.HTML object>"
      ]
     },
     "metadata": {},
     "output_type": "display_data"
    },
    {
     "data": {
      "text/html": [
       " View run at <a href='https://wandb.ai/da24m014-iit-madras/DLA1/runs/nh1vngp3' target=\"_blank\">https://wandb.ai/da24m014-iit-madras/DLA1/runs/nh1vngp3</a>"
      ],
      "text/plain": [
       "<IPython.core.display.HTML object>"
      ]
     },
     "metadata": {},
     "output_type": "display_data"
    },
    {
     "data": {
      "text/html": [],
      "text/plain": [
       "<IPython.core.display.HTML object>"
      ]
     },
     "metadata": {},
     "output_type": "display_data"
    },
    {
     "data": {
      "text/html": [
       "<br>    <style><br>        .wandb-row {<br>            display: flex;<br>            flex-direction: row;<br>            flex-wrap: wrap;<br>            justify-content: flex-start;<br>            width: 100%;<br>        }<br>        .wandb-col {<br>            display: flex;<br>            flex-direction: column;<br>            flex-basis: 100%;<br>            flex: 1;<br>            padding: 10px;<br>        }<br>    </style><br><div class=\"wandb-row\"><div class=\"wandb-col\"><h3>Run history:</h3><br/><table class=\"wandb\"><tr><td>accuracy</td><td>▁▃▁▂▄▆▆▆▇█</td></tr><tr><td>epoch</td><td>▁▂▃▃▄▅▆▆▇█</td></tr><tr><td>loss</td><td>██▇▇▆▆▅▄▃▁</td></tr><tr><td>val_accuracy</td><td>▁▂▁▁▄▅▆▇▇█</td></tr><tr><td>val_loss</td><td>██▇▇▇▆▅▄▃▁</td></tr></table><br/></div><div class=\"wandb-col\"><h3>Run summary:</h3><br/><table class=\"wandb\"><tr><td>accuracy</td><td>0.33402</td></tr><tr><td>epoch</td><td>10</td></tr><tr><td>loss</td><td>2.2923</td></tr><tr><td>val_accuracy</td><td>0.3363</td></tr><tr><td>val_loss</td><td>2.29057</td></tr></table><br/></div></div>"
      ],
      "text/plain": [
       "<IPython.core.display.HTML object>"
      ]
     },
     "metadata": {},
     "output_type": "display_data"
    },
    {
     "data": {
      "text/html": [
       " View run <strong style=\"color:#cdcd00\">hl_5_bs_32_ac_relu</strong> at: <a href='https://wandb.ai/da24m014-iit-madras/DLA1/runs/nh1vngp3' target=\"_blank\">https://wandb.ai/da24m014-iit-madras/DLA1/runs/nh1vngp3</a><br> View project at: <a href='https://wandb.ai/da24m014-iit-madras/DLA1' target=\"_blank\">https://wandb.ai/da24m014-iit-madras/DLA1</a><br>Synced 5 W&B file(s), 1 media file(s), 2 artifact file(s) and 0 other file(s)"
      ],
      "text/plain": [
       "<IPython.core.display.HTML object>"
      ]
     },
     "metadata": {},
     "output_type": "display_data"
    },
    {
     "data": {
      "text/html": [
       "Find logs at: <code>.\\wandb\\run-20250310_082327-nh1vngp3\\logs</code>"
      ],
      "text/plain": [
       "<IPython.core.display.HTML object>"
      ]
     },
     "metadata": {},
     "output_type": "display_data"
    },
    {
     "name": "stderr",
     "output_type": "stream",
     "text": [
      "\u001b[34m\u001b[1mwandb\u001b[0m: Agent Starting Run: js7yvqhh with config:\n",
      "\u001b[34m\u001b[1mwandb\u001b[0m: \tactivation: relu\n",
      "\u001b[34m\u001b[1mwandb\u001b[0m: \tbatch_size: 16\n",
      "\u001b[34m\u001b[1mwandb\u001b[0m: \tepochs: 5\n",
      "\u001b[34m\u001b[1mwandb\u001b[0m: \thidden_layers: 4\n",
      "\u001b[34m\u001b[1mwandb\u001b[0m: \thidden_size: 32\n",
      "\u001b[34m\u001b[1mwandb\u001b[0m: \tlearning_rate: 0.0001\n",
      "\u001b[34m\u001b[1mwandb\u001b[0m: \toptimizer: nesterov\n",
      "\u001b[34m\u001b[1mwandb\u001b[0m: \tweight_decay: 0\n",
      "\u001b[34m\u001b[1mwandb\u001b[0m: \tweight_init: xavier\n"
     ]
    },
    {
     "data": {
      "text/html": [
       "Ignoring project 'DLA1' when running a sweep."
      ],
      "text/plain": [
       "<IPython.core.display.HTML object>"
      ]
     },
     "metadata": {},
     "output_type": "display_data"
    },
    {
     "data": {
      "text/html": [
       "Ignoring entity 'da24m014' when running a sweep."
      ],
      "text/plain": [
       "<IPython.core.display.HTML object>"
      ]
     },
     "metadata": {},
     "output_type": "display_data"
    },
    {
     "data": {
      "text/html": [
       "creating run (0.2s)"
      ],
      "text/plain": [
       "<IPython.core.display.HTML object>"
      ]
     },
     "metadata": {},
     "output_type": "display_data"
    },
    {
     "data": {
      "text/html": [
       "Tracking run with wandb version 0.19.7"
      ],
      "text/plain": [
       "<IPython.core.display.HTML object>"
      ]
     },
     "metadata": {},
     "output_type": "display_data"
    },
    {
     "data": {
      "text/html": [
       "Run data is saved locally in <code>d:\\IIT Madras\\SEM 2\\Deep Learning\\Assignment-1-DL\\wandb\\run-20250310_082405-js7yvqhh</code>"
      ],
      "text/plain": [
       "<IPython.core.display.HTML object>"
      ]
     },
     "metadata": {},
     "output_type": "display_data"
    },
    {
     "data": {
      "text/html": [
       "Syncing run <strong><a href='https://wandb.ai/da24m014-iit-madras/DLA1/runs/js7yvqhh' target=\"_blank\">dry-sweep-3</a></strong> to <a href='https://wandb.ai/da24m014-iit-madras/DLA1' target=\"_blank\">Weights & Biases</a> (<a href='https://wandb.me/developer-guide' target=\"_blank\">docs</a>)<br>Sweep page: <a href='https://wandb.ai/da24m014-iit-madras/DLA1/sweeps/2devlgbi' target=\"_blank\">https://wandb.ai/da24m014-iit-madras/DLA1/sweeps/2devlgbi</a>"
      ],
      "text/plain": [
       "<IPython.core.display.HTML object>"
      ]
     },
     "metadata": {},
     "output_type": "display_data"
    },
    {
     "data": {
      "text/html": [
       " View project at <a href='https://wandb.ai/da24m014-iit-madras/DLA1' target=\"_blank\">https://wandb.ai/da24m014-iit-madras/DLA1</a>"
      ],
      "text/plain": [
       "<IPython.core.display.HTML object>"
      ]
     },
     "metadata": {},
     "output_type": "display_data"
    },
    {
     "data": {
      "text/html": [
       " View sweep at <a href='https://wandb.ai/da24m014-iit-madras/DLA1/sweeps/2devlgbi' target=\"_blank\">https://wandb.ai/da24m014-iit-madras/DLA1/sweeps/2devlgbi</a>"
      ],
      "text/plain": [
       "<IPython.core.display.HTML object>"
      ]
     },
     "metadata": {},
     "output_type": "display_data"
    },
    {
     "data": {
      "text/html": [
       " View run at <a href='https://wandb.ai/da24m014-iit-madras/DLA1/runs/js7yvqhh' target=\"_blank\">https://wandb.ai/da24m014-iit-madras/DLA1/runs/js7yvqhh</a>"
      ],
      "text/plain": [
       "<IPython.core.display.HTML object>"
      ]
     },
     "metadata": {},
     "output_type": "display_data"
    },
    {
     "data": {
      "text/html": [],
      "text/plain": [
       "<IPython.core.display.HTML object>"
      ]
     },
     "metadata": {},
     "output_type": "display_data"
    },
    {
     "data": {
      "text/html": [
       "<br>    <style><br>        .wandb-row {<br>            display: flex;<br>            flex-direction: row;<br>            flex-wrap: wrap;<br>            justify-content: flex-start;<br>            width: 100%;<br>        }<br>        .wandb-col {<br>            display: flex;<br>            flex-direction: column;<br>            flex-basis: 100%;<br>            flex: 1;<br>            padding: 10px;<br>        }<br>    </style><br><div class=\"wandb-row\"><div class=\"wandb-col\"><h3>Run history:</h3><br/><table class=\"wandb\"><tr><td>accuracy</td><td>▁▂▄▇█</td></tr><tr><td>epoch</td><td>▁▃▅▆█</td></tr><tr><td>loss</td><td>█▇▅▃▁</td></tr><tr><td>val_accuracy</td><td>▁▂▆██</td></tr><tr><td>val_loss</td><td>█▆▄▂▁</td></tr></table><br/></div><div class=\"wandb-col\"><h3>Run summary:</h3><br/><table class=\"wandb\"><tr><td>accuracy</td><td>0.67606</td></tr><tr><td>epoch</td><td>5</td></tr><tr><td>loss</td><td>0.97796</td></tr><tr><td>val_accuracy</td><td>0.6869</td></tr><tr><td>val_loss</td><td>0.89747</td></tr></table><br/></div></div>"
      ],
      "text/plain": [
       "<IPython.core.display.HTML object>"
      ]
     },
     "metadata": {},
     "output_type": "display_data"
    },
    {
     "data": {
      "text/html": [
       " View run <strong style=\"color:#cdcd00\">hl_4_bs_16_ac_relu</strong> at: <a href='https://wandb.ai/da24m014-iit-madras/DLA1/runs/js7yvqhh' target=\"_blank\">https://wandb.ai/da24m014-iit-madras/DLA1/runs/js7yvqhh</a><br> View project at: <a href='https://wandb.ai/da24m014-iit-madras/DLA1' target=\"_blank\">https://wandb.ai/da24m014-iit-madras/DLA1</a><br>Synced 5 W&B file(s), 1 media file(s), 2 artifact file(s) and 0 other file(s)"
      ],
      "text/plain": [
       "<IPython.core.display.HTML object>"
      ]
     },
     "metadata": {},
     "output_type": "display_data"
    },
    {
     "data": {
      "text/html": [
       "Find logs at: <code>.\\wandb\\run-20250310_082405-js7yvqhh\\logs</code>"
      ],
      "text/plain": [
       "<IPython.core.display.HTML object>"
      ]
     },
     "metadata": {},
     "output_type": "display_data"
    },
    {
     "name": "stderr",
     "output_type": "stream",
     "text": [
      "\u001b[34m\u001b[1mwandb\u001b[0m: Sweep Agent: Waiting for job.\n",
      "\u001b[34m\u001b[1mwandb\u001b[0m: Job received.\n",
      "\u001b[34m\u001b[1mwandb\u001b[0m: Agent Starting Run: krm9695f with config:\n",
      "\u001b[34m\u001b[1mwandb\u001b[0m: \tactivation: tanh\n",
      "\u001b[34m\u001b[1mwandb\u001b[0m: \tbatch_size: 64\n",
      "\u001b[34m\u001b[1mwandb\u001b[0m: \tepochs: 5\n",
      "\u001b[34m\u001b[1mwandb\u001b[0m: \thidden_layers: 4\n",
      "\u001b[34m\u001b[1mwandb\u001b[0m: \thidden_size: 128\n",
      "\u001b[34m\u001b[1mwandb\u001b[0m: \tlearning_rate: 0.001\n",
      "\u001b[34m\u001b[1mwandb\u001b[0m: \toptimizer: sgd\n",
      "\u001b[34m\u001b[1mwandb\u001b[0m: \tweight_decay: 0\n",
      "\u001b[34m\u001b[1mwandb\u001b[0m: \tweight_init: random\n"
     ]
    },
    {
     "data": {
      "text/html": [
       "Ignoring project 'DLA1' when running a sweep."
      ],
      "text/plain": [
       "<IPython.core.display.HTML object>"
      ]
     },
     "metadata": {},
     "output_type": "display_data"
    },
    {
     "data": {
      "text/html": [
       "Ignoring entity 'da24m014' when running a sweep."
      ],
      "text/plain": [
       "<IPython.core.display.HTML object>"
      ]
     },
     "metadata": {},
     "output_type": "display_data"
    },
    {
     "data": {
      "text/html": [
       "creating run (0.3s)"
      ],
      "text/plain": [
       "<IPython.core.display.HTML object>"
      ]
     },
     "metadata": {},
     "output_type": "display_data"
    },
    {
     "data": {
      "text/html": [
       "Tracking run with wandb version 0.19.7"
      ],
      "text/plain": [
       "<IPython.core.display.HTML object>"
      ]
     },
     "metadata": {},
     "output_type": "display_data"
    },
    {
     "data": {
      "text/html": [
       "Run data is saved locally in <code>d:\\IIT Madras\\SEM 2\\Deep Learning\\Assignment-1-DL\\wandb\\run-20250310_082431-krm9695f</code>"
      ],
      "text/plain": [
       "<IPython.core.display.HTML object>"
      ]
     },
     "metadata": {},
     "output_type": "display_data"
    },
    {
     "data": {
      "text/html": [
       "Syncing run <strong><a href='https://wandb.ai/da24m014-iit-madras/DLA1/runs/krm9695f' target=\"_blank\">lively-sweep-4</a></strong> to <a href='https://wandb.ai/da24m014-iit-madras/DLA1' target=\"_blank\">Weights & Biases</a> (<a href='https://wandb.me/developer-guide' target=\"_blank\">docs</a>)<br>Sweep page: <a href='https://wandb.ai/da24m014-iit-madras/DLA1/sweeps/2devlgbi' target=\"_blank\">https://wandb.ai/da24m014-iit-madras/DLA1/sweeps/2devlgbi</a>"
      ],
      "text/plain": [
       "<IPython.core.display.HTML object>"
      ]
     },
     "metadata": {},
     "output_type": "display_data"
    },
    {
     "data": {
      "text/html": [
       " View project at <a href='https://wandb.ai/da24m014-iit-madras/DLA1' target=\"_blank\">https://wandb.ai/da24m014-iit-madras/DLA1</a>"
      ],
      "text/plain": [
       "<IPython.core.display.HTML object>"
      ]
     },
     "metadata": {},
     "output_type": "display_data"
    },
    {
     "data": {
      "text/html": [
       " View sweep at <a href='https://wandb.ai/da24m014-iit-madras/DLA1/sweeps/2devlgbi' target=\"_blank\">https://wandb.ai/da24m014-iit-madras/DLA1/sweeps/2devlgbi</a>"
      ],
      "text/plain": [
       "<IPython.core.display.HTML object>"
      ]
     },
     "metadata": {},
     "output_type": "display_data"
    },
    {
     "data": {
      "text/html": [
       " View run at <a href='https://wandb.ai/da24m014-iit-madras/DLA1/runs/krm9695f' target=\"_blank\">https://wandb.ai/da24m014-iit-madras/DLA1/runs/krm9695f</a>"
      ],
      "text/plain": [
       "<IPython.core.display.HTML object>"
      ]
     },
     "metadata": {},
     "output_type": "display_data"
    },
    {
     "data": {
      "text/html": [],
      "text/plain": [
       "<IPython.core.display.HTML object>"
      ]
     },
     "metadata": {},
     "output_type": "display_data"
    },
    {
     "data": {
      "text/html": [
       "<br>    <style><br>        .wandb-row {<br>            display: flex;<br>            flex-direction: row;<br>            flex-wrap: wrap;<br>            justify-content: flex-start;<br>            width: 100%;<br>        }<br>        .wandb-col {<br>            display: flex;<br>            flex-direction: column;<br>            flex-basis: 100%;<br>            flex: 1;<br>            padding: 10px;<br>        }<br>    </style><br><div class=\"wandb-row\"><div class=\"wandb-col\"><h3>Run history:</h3><br/><table class=\"wandb\"><tr><td>accuracy</td><td>▁▆▆▇█</td></tr><tr><td>epoch</td><td>▁▃▅▆█</td></tr><tr><td>loss</td><td>█▇▄▂▁</td></tr><tr><td>val_accuracy</td><td>▁▄▄▇█</td></tr><tr><td>val_loss</td><td>█▆▄▂▁</td></tr></table><br/></div><div class=\"wandb-col\"><h3>Run summary:</h3><br/><table class=\"wandb\"><tr><td>accuracy</td><td>0.58587</td></tr><tr><td>epoch</td><td>5</td></tr><tr><td>loss</td><td>1.33201</td></tr><tr><td>val_accuracy</td><td>0.6037</td></tr><tr><td>val_loss</td><td>1.26903</td></tr></table><br/></div></div>"
      ],
      "text/plain": [
       "<IPython.core.display.HTML object>"
      ]
     },
     "metadata": {},
     "output_type": "display_data"
    },
    {
     "data": {
      "text/html": [
       " View run <strong style=\"color:#cdcd00\">hl_4_bs_64_ac_tanh</strong> at: <a href='https://wandb.ai/da24m014-iit-madras/DLA1/runs/krm9695f' target=\"_blank\">https://wandb.ai/da24m014-iit-madras/DLA1/runs/krm9695f</a><br> View project at: <a href='https://wandb.ai/da24m014-iit-madras/DLA1' target=\"_blank\">https://wandb.ai/da24m014-iit-madras/DLA1</a><br>Synced 5 W&B file(s), 1 media file(s), 2 artifact file(s) and 0 other file(s)"
      ],
      "text/plain": [
       "<IPython.core.display.HTML object>"
      ]
     },
     "metadata": {},
     "output_type": "display_data"
    },
    {
     "data": {
      "text/html": [
       "Find logs at: <code>.\\wandb\\run-20250310_082431-krm9695f\\logs</code>"
      ],
      "text/plain": [
       "<IPython.core.display.HTML object>"
      ]
     },
     "metadata": {},
     "output_type": "display_data"
    },
    {
     "name": "stderr",
     "output_type": "stream",
     "text": [
      "\u001b[34m\u001b[1mwandb\u001b[0m: Agent Starting Run: ue5qt47w with config:\n",
      "\u001b[34m\u001b[1mwandb\u001b[0m: \tactivation: sigmoid\n",
      "\u001b[34m\u001b[1mwandb\u001b[0m: \tbatch_size: 16\n",
      "\u001b[34m\u001b[1mwandb\u001b[0m: \tepochs: 10\n",
      "\u001b[34m\u001b[1mwandb\u001b[0m: \thidden_layers: 3\n",
      "\u001b[34m\u001b[1mwandb\u001b[0m: \thidden_size: 64\n",
      "\u001b[34m\u001b[1mwandb\u001b[0m: \tlearning_rate: 0.001\n",
      "\u001b[34m\u001b[1mwandb\u001b[0m: \toptimizer: nadam\n",
      "\u001b[34m\u001b[1mwandb\u001b[0m: \tweight_decay: 0\n",
      "\u001b[34m\u001b[1mwandb\u001b[0m: \tweight_init: xavier\n"
     ]
    },
    {
     "data": {
      "text/html": [
       "Ignoring project 'DLA1' when running a sweep."
      ],
      "text/plain": [
       "<IPython.core.display.HTML object>"
      ]
     },
     "metadata": {},
     "output_type": "display_data"
    },
    {
     "data": {
      "text/html": [
       "Ignoring entity 'da24m014' when running a sweep."
      ],
      "text/plain": [
       "<IPython.core.display.HTML object>"
      ]
     },
     "metadata": {},
     "output_type": "display_data"
    },
    {
     "data": {
      "text/html": [],
      "text/plain": [
       "<IPython.core.display.HTML object>"
      ]
     },
     "metadata": {},
     "output_type": "display_data"
    },
    {
     "data": {
      "text/html": [
       "Tracking run with wandb version 0.19.7"
      ],
      "text/plain": [
       "<IPython.core.display.HTML object>"
      ]
     },
     "metadata": {},
     "output_type": "display_data"
    },
    {
     "data": {
      "text/html": [
       "Run data is saved locally in <code>d:\\IIT Madras\\SEM 2\\Deep Learning\\Assignment-1-DL\\wandb\\run-20250310_082452-ue5qt47w</code>"
      ],
      "text/plain": [
       "<IPython.core.display.HTML object>"
      ]
     },
     "metadata": {},
     "output_type": "display_data"
    },
    {
     "data": {
      "text/html": [
       "Syncing run <strong><a href='https://wandb.ai/da24m014-iit-madras/DLA1/runs/ue5qt47w' target=\"_blank\">mild-sweep-5</a></strong> to <a href='https://wandb.ai/da24m014-iit-madras/DLA1' target=\"_blank\">Weights & Biases</a> (<a href='https://wandb.me/developer-guide' target=\"_blank\">docs</a>)<br>Sweep page: <a href='https://wandb.ai/da24m014-iit-madras/DLA1/sweeps/2devlgbi' target=\"_blank\">https://wandb.ai/da24m014-iit-madras/DLA1/sweeps/2devlgbi</a>"
      ],
      "text/plain": [
       "<IPython.core.display.HTML object>"
      ]
     },
     "metadata": {},
     "output_type": "display_data"
    },
    {
     "data": {
      "text/html": [
       " View project at <a href='https://wandb.ai/da24m014-iit-madras/DLA1' target=\"_blank\">https://wandb.ai/da24m014-iit-madras/DLA1</a>"
      ],
      "text/plain": [
       "<IPython.core.display.HTML object>"
      ]
     },
     "metadata": {},
     "output_type": "display_data"
    },
    {
     "data": {
      "text/html": [
       " View sweep at <a href='https://wandb.ai/da24m014-iit-madras/DLA1/sweeps/2devlgbi' target=\"_blank\">https://wandb.ai/da24m014-iit-madras/DLA1/sweeps/2devlgbi</a>"
      ],
      "text/plain": [
       "<IPython.core.display.HTML object>"
      ]
     },
     "metadata": {},
     "output_type": "display_data"
    },
    {
     "data": {
      "text/html": [
       " View run at <a href='https://wandb.ai/da24m014-iit-madras/DLA1/runs/ue5qt47w' target=\"_blank\">https://wandb.ai/da24m014-iit-madras/DLA1/runs/ue5qt47w</a>"
      ],
      "text/plain": [
       "<IPython.core.display.HTML object>"
      ]
     },
     "metadata": {},
     "output_type": "display_data"
    },
    {
     "data": {
      "text/html": [],
      "text/plain": [
       "<IPython.core.display.HTML object>"
      ]
     },
     "metadata": {},
     "output_type": "display_data"
    },
    {
     "data": {
      "text/html": [
       "<br>    <style><br>        .wandb-row {<br>            display: flex;<br>            flex-direction: row;<br>            flex-wrap: wrap;<br>            justify-content: flex-start;<br>            width: 100%;<br>        }<br>        .wandb-col {<br>            display: flex;<br>            flex-direction: column;<br>            flex-basis: 100%;<br>            flex: 1;<br>            padding: 10px;<br>        }<br>    </style><br><div class=\"wandb-row\"><div class=\"wandb-col\"><h3>Run history:</h3><br/><table class=\"wandb\"><tr><td>accuracy</td><td>▁▆▇▇██████</td></tr><tr><td>epoch</td><td>▁▂▃▃▄▅▆▆▇█</td></tr><tr><td>loss</td><td>█▂▂▁▁▁▁▁▁▁</td></tr><tr><td>val_accuracy</td><td>▁▄▅▆▆██▇██</td></tr><tr><td>val_loss</td><td>█▅▄▂▂▁▂▄▃▄</td></tr></table><br/></div><div class=\"wandb-col\"><h3>Run summary:</h3><br/><table class=\"wandb\"><tr><td>accuracy</td><td>0.87433</td></tr><tr><td>epoch</td><td>10</td></tr><tr><td>loss</td><td>0.39339</td></tr><tr><td>val_accuracy</td><td>0.8587</td></tr><tr><td>val_loss</td><td>0.47412</td></tr></table><br/></div></div>"
      ],
      "text/plain": [
       "<IPython.core.display.HTML object>"
      ]
     },
     "metadata": {},
     "output_type": "display_data"
    },
    {
     "data": {
      "text/html": [
       " View run <strong style=\"color:#cdcd00\">hl_3_bs_16_ac_sigmoid</strong> at: <a href='https://wandb.ai/da24m014-iit-madras/DLA1/runs/ue5qt47w' target=\"_blank\">https://wandb.ai/da24m014-iit-madras/DLA1/runs/ue5qt47w</a><br> View project at: <a href='https://wandb.ai/da24m014-iit-madras/DLA1' target=\"_blank\">https://wandb.ai/da24m014-iit-madras/DLA1</a><br>Synced 5 W&B file(s), 1 media file(s), 2 artifact file(s) and 0 other file(s)"
      ],
      "text/plain": [
       "<IPython.core.display.HTML object>"
      ]
     },
     "metadata": {},
     "output_type": "display_data"
    },
    {
     "data": {
      "text/html": [
       "Find logs at: <code>.\\wandb\\run-20250310_082452-ue5qt47w\\logs</code>"
      ],
      "text/plain": [
       "<IPython.core.display.HTML object>"
      ]
     },
     "metadata": {},
     "output_type": "display_data"
    },
    {
     "name": "stderr",
     "output_type": "stream",
     "text": [
      "\u001b[34m\u001b[1mwandb\u001b[0m: Agent Starting Run: ba45pnpz with config:\n",
      "\u001b[34m\u001b[1mwandb\u001b[0m: \tactivation: tanh\n",
      "\u001b[34m\u001b[1mwandb\u001b[0m: \tbatch_size: 64\n",
      "\u001b[34m\u001b[1mwandb\u001b[0m: \tepochs: 5\n",
      "\u001b[34m\u001b[1mwandb\u001b[0m: \thidden_layers: 5\n",
      "\u001b[34m\u001b[1mwandb\u001b[0m: \thidden_size: 64\n",
      "\u001b[34m\u001b[1mwandb\u001b[0m: \tlearning_rate: 0.001\n",
      "\u001b[34m\u001b[1mwandb\u001b[0m: \toptimizer: nadam\n",
      "\u001b[34m\u001b[1mwandb\u001b[0m: \tweight_decay: 0\n",
      "\u001b[34m\u001b[1mwandb\u001b[0m: \tweight_init: xavier\n"
     ]
    },
    {
     "data": {
      "text/html": [
       "Ignoring project 'DLA1' when running a sweep."
      ],
      "text/plain": [
       "<IPython.core.display.HTML object>"
      ]
     },
     "metadata": {},
     "output_type": "display_data"
    },
    {
     "data": {
      "text/html": [
       "Ignoring entity 'da24m014' when running a sweep."
      ],
      "text/plain": [
       "<IPython.core.display.HTML object>"
      ]
     },
     "metadata": {},
     "output_type": "display_data"
    },
    {
     "data": {
      "text/html": [],
      "text/plain": [
       "<IPython.core.display.HTML object>"
      ]
     },
     "metadata": {},
     "output_type": "display_data"
    },
    {
     "data": {
      "text/html": [
       "Tracking run with wandb version 0.19.7"
      ],
      "text/plain": [
       "<IPython.core.display.HTML object>"
      ]
     },
     "metadata": {},
     "output_type": "display_data"
    },
    {
     "data": {
      "text/html": [
       "Run data is saved locally in <code>d:\\IIT Madras\\SEM 2\\Deep Learning\\Assignment-1-DL\\wandb\\run-20250310_082540-ba45pnpz</code>"
      ],
      "text/plain": [
       "<IPython.core.display.HTML object>"
      ]
     },
     "metadata": {},
     "output_type": "display_data"
    },
    {
     "data": {
      "text/html": [
       "Syncing run <strong><a href='https://wandb.ai/da24m014-iit-madras/DLA1/runs/ba45pnpz' target=\"_blank\">absurd-sweep-6</a></strong> to <a href='https://wandb.ai/da24m014-iit-madras/DLA1' target=\"_blank\">Weights & Biases</a> (<a href='https://wandb.me/developer-guide' target=\"_blank\">docs</a>)<br>Sweep page: <a href='https://wandb.ai/da24m014-iit-madras/DLA1/sweeps/2devlgbi' target=\"_blank\">https://wandb.ai/da24m014-iit-madras/DLA1/sweeps/2devlgbi</a>"
      ],
      "text/plain": [
       "<IPython.core.display.HTML object>"
      ]
     },
     "metadata": {},
     "output_type": "display_data"
    },
    {
     "data": {
      "text/html": [
       " View project at <a href='https://wandb.ai/da24m014-iit-madras/DLA1' target=\"_blank\">https://wandb.ai/da24m014-iit-madras/DLA1</a>"
      ],
      "text/plain": [
       "<IPython.core.display.HTML object>"
      ]
     },
     "metadata": {},
     "output_type": "display_data"
    },
    {
     "data": {
      "text/html": [
       " View sweep at <a href='https://wandb.ai/da24m014-iit-madras/DLA1/sweeps/2devlgbi' target=\"_blank\">https://wandb.ai/da24m014-iit-madras/DLA1/sweeps/2devlgbi</a>"
      ],
      "text/plain": [
       "<IPython.core.display.HTML object>"
      ]
     },
     "metadata": {},
     "output_type": "display_data"
    },
    {
     "data": {
      "text/html": [
       " View run at <a href='https://wandb.ai/da24m014-iit-madras/DLA1/runs/ba45pnpz' target=\"_blank\">https://wandb.ai/da24m014-iit-madras/DLA1/runs/ba45pnpz</a>"
      ],
      "text/plain": [
       "<IPython.core.display.HTML object>"
      ]
     },
     "metadata": {},
     "output_type": "display_data"
    },
    {
     "data": {
      "text/html": [],
      "text/plain": [
       "<IPython.core.display.HTML object>"
      ]
     },
     "metadata": {},
     "output_type": "display_data"
    },
    {
     "data": {
      "text/html": [
       "<br>    <style><br>        .wandb-row {<br>            display: flex;<br>            flex-direction: row;<br>            flex-wrap: wrap;<br>            justify-content: flex-start;<br>            width: 100%;<br>        }<br>        .wandb-col {<br>            display: flex;<br>            flex-direction: column;<br>            flex-basis: 100%;<br>            flex: 1;<br>            padding: 10px;<br>        }<br>    </style><br><div class=\"wandb-row\"><div class=\"wandb-col\"><h3>Run history:</h3><br/><table class=\"wandb\"><tr><td>accuracy</td><td>▁▅▇██</td></tr><tr><td>epoch</td><td>▁▃▅▆█</td></tr><tr><td>loss</td><td>█▄▂▂▁</td></tr><tr><td>val_accuracy</td><td>▁▆▆▄█</td></tr><tr><td>val_loss</td><td>█▃▄▅▁</td></tr></table><br/></div><div class=\"wandb-col\"><h3>Run summary:</h3><br/><table class=\"wandb\"><tr><td>accuracy</td><td>0.88139</td></tr><tr><td>epoch</td><td>5</td></tr><tr><td>loss</td><td>0.32229</td></tr><tr><td>val_accuracy</td><td>0.8729</td></tr><tr><td>val_loss</td><td>0.35032</td></tr></table><br/></div></div>"
      ],
      "text/plain": [
       "<IPython.core.display.HTML object>"
      ]
     },
     "metadata": {},
     "output_type": "display_data"
    },
    {
     "data": {
      "text/html": [
       " View run <strong style=\"color:#cdcd00\">hl_5_bs_64_ac_tanh</strong> at: <a href='https://wandb.ai/da24m014-iit-madras/DLA1/runs/ba45pnpz' target=\"_blank\">https://wandb.ai/da24m014-iit-madras/DLA1/runs/ba45pnpz</a><br> View project at: <a href='https://wandb.ai/da24m014-iit-madras/DLA1' target=\"_blank\">https://wandb.ai/da24m014-iit-madras/DLA1</a><br>Synced 5 W&B file(s), 1 media file(s), 2 artifact file(s) and 0 other file(s)"
      ],
      "text/plain": [
       "<IPython.core.display.HTML object>"
      ]
     },
     "metadata": {},
     "output_type": "display_data"
    },
    {
     "data": {
      "text/html": [
       "Find logs at: <code>.\\wandb\\run-20250310_082540-ba45pnpz\\logs</code>"
      ],
      "text/plain": [
       "<IPython.core.display.HTML object>"
      ]
     },
     "metadata": {},
     "output_type": "display_data"
    },
    {
     "name": "stderr",
     "output_type": "stream",
     "text": [
      "\u001b[34m\u001b[1mwandb\u001b[0m: Agent Starting Run: 1wojwcyj with config:\n",
      "\u001b[34m\u001b[1mwandb\u001b[0m: \tactivation: relu\n",
      "\u001b[34m\u001b[1mwandb\u001b[0m: \tbatch_size: 32\n",
      "\u001b[34m\u001b[1mwandb\u001b[0m: \tepochs: 10\n",
      "\u001b[34m\u001b[1mwandb\u001b[0m: \thidden_layers: 5\n",
      "\u001b[34m\u001b[1mwandb\u001b[0m: \thidden_size: 128\n",
      "\u001b[34m\u001b[1mwandb\u001b[0m: \tlearning_rate: 0.001\n",
      "\u001b[34m\u001b[1mwandb\u001b[0m: \toptimizer: nadam\n",
      "\u001b[34m\u001b[1mwandb\u001b[0m: \tweight_decay: 0.0005\n",
      "\u001b[34m\u001b[1mwandb\u001b[0m: \tweight_init: random\n"
     ]
    },
    {
     "data": {
      "text/html": [
       "Ignoring project 'DLA1' when running a sweep."
      ],
      "text/plain": [
       "<IPython.core.display.HTML object>"
      ]
     },
     "metadata": {},
     "output_type": "display_data"
    },
    {
     "data": {
      "text/html": [
       "Ignoring entity 'da24m014' when running a sweep."
      ],
      "text/plain": [
       "<IPython.core.display.HTML object>"
      ]
     },
     "metadata": {},
     "output_type": "display_data"
    },
    {
     "data": {
      "text/html": [
       "creating run (0.3s)"
      ],
      "text/plain": [
       "<IPython.core.display.HTML object>"
      ]
     },
     "metadata": {},
     "output_type": "display_data"
    },
    {
     "data": {
      "text/html": [
       "Tracking run with wandb version 0.19.7"
      ],
      "text/plain": [
       "<IPython.core.display.HTML object>"
      ]
     },
     "metadata": {},
     "output_type": "display_data"
    },
    {
     "data": {
      "text/html": [
       "Run data is saved locally in <code>d:\\IIT Madras\\SEM 2\\Deep Learning\\Assignment-1-DL\\wandb\\run-20250310_082607-1wojwcyj</code>"
      ],
      "text/plain": [
       "<IPython.core.display.HTML object>"
      ]
     },
     "metadata": {},
     "output_type": "display_data"
    },
    {
     "data": {
      "text/html": [
       "Syncing run <strong><a href='https://wandb.ai/da24m014-iit-madras/DLA1/runs/1wojwcyj' target=\"_blank\">balmy-sweep-7</a></strong> to <a href='https://wandb.ai/da24m014-iit-madras/DLA1' target=\"_blank\">Weights & Biases</a> (<a href='https://wandb.me/developer-guide' target=\"_blank\">docs</a>)<br>Sweep page: <a href='https://wandb.ai/da24m014-iit-madras/DLA1/sweeps/2devlgbi' target=\"_blank\">https://wandb.ai/da24m014-iit-madras/DLA1/sweeps/2devlgbi</a>"
      ],
      "text/plain": [
       "<IPython.core.display.HTML object>"
      ]
     },
     "metadata": {},
     "output_type": "display_data"
    },
    {
     "data": {
      "text/html": [
       " View project at <a href='https://wandb.ai/da24m014-iit-madras/DLA1' target=\"_blank\">https://wandb.ai/da24m014-iit-madras/DLA1</a>"
      ],
      "text/plain": [
       "<IPython.core.display.HTML object>"
      ]
     },
     "metadata": {},
     "output_type": "display_data"
    },
    {
     "data": {
      "text/html": [
       " View sweep at <a href='https://wandb.ai/da24m014-iit-madras/DLA1/sweeps/2devlgbi' target=\"_blank\">https://wandb.ai/da24m014-iit-madras/DLA1/sweeps/2devlgbi</a>"
      ],
      "text/plain": [
       "<IPython.core.display.HTML object>"
      ]
     },
     "metadata": {},
     "output_type": "display_data"
    },
    {
     "data": {
      "text/html": [
       " View run at <a href='https://wandb.ai/da24m014-iit-madras/DLA1/runs/1wojwcyj' target=\"_blank\">https://wandb.ai/da24m014-iit-madras/DLA1/runs/1wojwcyj</a>"
      ],
      "text/plain": [
       "<IPython.core.display.HTML object>"
      ]
     },
     "metadata": {},
     "output_type": "display_data"
    },
    {
     "data": {
      "text/html": [],
      "text/plain": [
       "<IPython.core.display.HTML object>"
      ]
     },
     "metadata": {},
     "output_type": "display_data"
    },
    {
     "data": {
      "text/html": [
       "<br>    <style><br>        .wandb-row {<br>            display: flex;<br>            flex-direction: row;<br>            flex-wrap: wrap;<br>            justify-content: flex-start;<br>            width: 100%;<br>        }<br>        .wandb-col {<br>            display: flex;<br>            flex-direction: column;<br>            flex-basis: 100%;<br>            flex: 1;<br>            padding: 10px;<br>        }<br>    </style><br><div class=\"wandb-row\"><div class=\"wandb-col\"><h3>Run history:</h3><br/><table class=\"wandb\"><tr><td>accuracy</td><td>▁▆▇▇▇▇████</td></tr><tr><td>epoch</td><td>▁▂▃▃▄▅▆▆▇█</td></tr><tr><td>loss</td><td>█▂▁▁▁▂▁▁▁▁</td></tr><tr><td>val_accuracy</td><td>▂▃▁▄▂▄▇█▄▆</td></tr><tr><td>val_loss</td><td>▃▄▄█▇▅▁▁▅▂</td></tr></table><br/></div><div class=\"wandb-col\"><h3>Run summary:</h3><br/><table class=\"wandb\"><tr><td>accuracy</td><td>0.85472</td></tr><tr><td>epoch</td><td>10</td></tr><tr><td>loss</td><td>0.54674</td></tr><tr><td>val_accuracy</td><td>0.8389</td></tr><tr><td>val_loss</td><td>0.60087</td></tr></table><br/></div></div>"
      ],
      "text/plain": [
       "<IPython.core.display.HTML object>"
      ]
     },
     "metadata": {},
     "output_type": "display_data"
    },
    {
     "data": {
      "text/html": [
       " View run <strong style=\"color:#cdcd00\">hl_5_bs_32_ac_relu</strong> at: <a href='https://wandb.ai/da24m014-iit-madras/DLA1/runs/1wojwcyj' target=\"_blank\">https://wandb.ai/da24m014-iit-madras/DLA1/runs/1wojwcyj</a><br> View project at: <a href='https://wandb.ai/da24m014-iit-madras/DLA1' target=\"_blank\">https://wandb.ai/da24m014-iit-madras/DLA1</a><br>Synced 5 W&B file(s), 1 media file(s), 2 artifact file(s) and 0 other file(s)"
      ],
      "text/plain": [
       "<IPython.core.display.HTML object>"
      ]
     },
     "metadata": {},
     "output_type": "display_data"
    },
    {
     "data": {
      "text/html": [
       "Find logs at: <code>.\\wandb\\run-20250310_082607-1wojwcyj\\logs</code>"
      ],
      "text/plain": [
       "<IPython.core.display.HTML object>"
      ]
     },
     "metadata": {},
     "output_type": "display_data"
    },
    {
     "name": "stderr",
     "output_type": "stream",
     "text": [
      "\u001b[34m\u001b[1mwandb\u001b[0m: Sweep Agent: Waiting for job.\n",
      "\u001b[34m\u001b[1mwandb\u001b[0m: Job received.\n",
      "\u001b[34m\u001b[1mwandb\u001b[0m: Agent Starting Run: 208nhvhv with config:\n",
      "\u001b[34m\u001b[1mwandb\u001b[0m: \tactivation: sigmoid\n",
      "\u001b[34m\u001b[1mwandb\u001b[0m: \tbatch_size: 16\n",
      "\u001b[34m\u001b[1mwandb\u001b[0m: \tepochs: 5\n",
      "\u001b[34m\u001b[1mwandb\u001b[0m: \thidden_layers: 3\n",
      "\u001b[34m\u001b[1mwandb\u001b[0m: \thidden_size: 64\n",
      "\u001b[34m\u001b[1mwandb\u001b[0m: \tlearning_rate: 0.001\n",
      "\u001b[34m\u001b[1mwandb\u001b[0m: \toptimizer: nesterov\n",
      "\u001b[34m\u001b[1mwandb\u001b[0m: \tweight_decay: 0\n",
      "\u001b[34m\u001b[1mwandb\u001b[0m: \tweight_init: xavier\n"
     ]
    },
    {
     "data": {
      "text/html": [
       "Ignoring project 'DLA1' when running a sweep."
      ],
      "text/plain": [
       "<IPython.core.display.HTML object>"
      ]
     },
     "metadata": {},
     "output_type": "display_data"
    },
    {
     "data": {
      "text/html": [
       "Ignoring entity 'da24m014' when running a sweep."
      ],
      "text/plain": [
       "<IPython.core.display.HTML object>"
      ]
     },
     "metadata": {},
     "output_type": "display_data"
    },
    {
     "data": {
      "text/html": [
       "creating run (0.3s)"
      ],
      "text/plain": [
       "<IPython.core.display.HTML object>"
      ]
     },
     "metadata": {},
     "output_type": "display_data"
    },
    {
     "data": {
      "text/html": [
       "Tracking run with wandb version 0.19.7"
      ],
      "text/plain": [
       "<IPython.core.display.HTML object>"
      ]
     },
     "metadata": {},
     "output_type": "display_data"
    },
    {
     "data": {
      "text/html": [
       "Run data is saved locally in <code>d:\\IIT Madras\\SEM 2\\Deep Learning\\Assignment-1-DL\\wandb\\run-20250310_083056-208nhvhv</code>"
      ],
      "text/plain": [
       "<IPython.core.display.HTML object>"
      ]
     },
     "metadata": {},
     "output_type": "display_data"
    },
    {
     "data": {
      "text/html": [
       "Syncing run <strong><a href='https://wandb.ai/da24m014-iit-madras/DLA1/runs/208nhvhv' target=\"_blank\">warm-sweep-8</a></strong> to <a href='https://wandb.ai/da24m014-iit-madras/DLA1' target=\"_blank\">Weights & Biases</a> (<a href='https://wandb.me/developer-guide' target=\"_blank\">docs</a>)<br>Sweep page: <a href='https://wandb.ai/da24m014-iit-madras/DLA1/sweeps/2devlgbi' target=\"_blank\">https://wandb.ai/da24m014-iit-madras/DLA1/sweeps/2devlgbi</a>"
      ],
      "text/plain": [
       "<IPython.core.display.HTML object>"
      ]
     },
     "metadata": {},
     "output_type": "display_data"
    },
    {
     "data": {
      "text/html": [
       " View project at <a href='https://wandb.ai/da24m014-iit-madras/DLA1' target=\"_blank\">https://wandb.ai/da24m014-iit-madras/DLA1</a>"
      ],
      "text/plain": [
       "<IPython.core.display.HTML object>"
      ]
     },
     "metadata": {},
     "output_type": "display_data"
    },
    {
     "data": {
      "text/html": [
       " View sweep at <a href='https://wandb.ai/da24m014-iit-madras/DLA1/sweeps/2devlgbi' target=\"_blank\">https://wandb.ai/da24m014-iit-madras/DLA1/sweeps/2devlgbi</a>"
      ],
      "text/plain": [
       "<IPython.core.display.HTML object>"
      ]
     },
     "metadata": {},
     "output_type": "display_data"
    },
    {
     "data": {
      "text/html": [
       " View run at <a href='https://wandb.ai/da24m014-iit-madras/DLA1/runs/208nhvhv' target=\"_blank\">https://wandb.ai/da24m014-iit-madras/DLA1/runs/208nhvhv</a>"
      ],
      "text/plain": [
       "<IPython.core.display.HTML object>"
      ]
     },
     "metadata": {},
     "output_type": "display_data"
    },
    {
     "data": {
      "text/html": [],
      "text/plain": [
       "<IPython.core.display.HTML object>"
      ]
     },
     "metadata": {},
     "output_type": "display_data"
    },
    {
     "data": {
      "text/html": [
       "<br>    <style><br>        .wandb-row {<br>            display: flex;<br>            flex-direction: row;<br>            flex-wrap: wrap;<br>            justify-content: flex-start;<br>            width: 100%;<br>        }<br>        .wandb-col {<br>            display: flex;<br>            flex-direction: column;<br>            flex-basis: 100%;<br>            flex: 1;<br>            padding: 10px;<br>        }<br>    </style><br><div class=\"wandb-row\"><div class=\"wandb-col\"><h3>Run history:</h3><br/><table class=\"wandb\"><tr><td>accuracy</td><td>▁▃▆▇█</td></tr><tr><td>epoch</td><td>▁▃▅▆█</td></tr><tr><td>loss</td><td>██▇▅▁</td></tr><tr><td>val_accuracy</td><td>▄▁▆▆█</td></tr><tr><td>val_loss</td><td>██▇▅▁</td></tr></table><br/></div><div class=\"wandb-col\"><h3>Run summary:</h3><br/><table class=\"wandb\"><tr><td>accuracy</td><td>0.35144</td></tr><tr><td>epoch</td><td>5</td></tr><tr><td>loss</td><td>2.05014</td></tr><tr><td>val_accuracy</td><td>0.4028</td></tr><tr><td>val_loss</td><td>1.91693</td></tr></table><br/></div></div>"
      ],
      "text/plain": [
       "<IPython.core.display.HTML object>"
      ]
     },
     "metadata": {},
     "output_type": "display_data"
    },
    {
     "data": {
      "text/html": [
       " View run <strong style=\"color:#cdcd00\">hl_3_bs_16_ac_sigmoid</strong> at: <a href='https://wandb.ai/da24m014-iit-madras/DLA1/runs/208nhvhv' target=\"_blank\">https://wandb.ai/da24m014-iit-madras/DLA1/runs/208nhvhv</a><br> View project at: <a href='https://wandb.ai/da24m014-iit-madras/DLA1' target=\"_blank\">https://wandb.ai/da24m014-iit-madras/DLA1</a><br>Synced 5 W&B file(s), 1 media file(s), 2 artifact file(s) and 0 other file(s)"
      ],
      "text/plain": [
       "<IPython.core.display.HTML object>"
      ]
     },
     "metadata": {},
     "output_type": "display_data"
    },
    {
     "data": {
      "text/html": [
       "Find logs at: <code>.\\wandb\\run-20250310_083056-208nhvhv\\logs</code>"
      ],
      "text/plain": [
       "<IPython.core.display.HTML object>"
      ]
     },
     "metadata": {},
     "output_type": "display_data"
    },
    {
     "name": "stderr",
     "output_type": "stream",
     "text": [
      "\u001b[34m\u001b[1mwandb\u001b[0m: Agent Starting Run: d1ctt9zq with config:\n",
      "\u001b[34m\u001b[1mwandb\u001b[0m: \tactivation: sigmoid\n",
      "\u001b[34m\u001b[1mwandb\u001b[0m: \tbatch_size: 32\n",
      "\u001b[34m\u001b[1mwandb\u001b[0m: \tepochs: 10\n",
      "\u001b[34m\u001b[1mwandb\u001b[0m: \thidden_layers: 3\n",
      "\u001b[34m\u001b[1mwandb\u001b[0m: \thidden_size: 64\n",
      "\u001b[34m\u001b[1mwandb\u001b[0m: \tlearning_rate: 0.0001\n",
      "\u001b[34m\u001b[1mwandb\u001b[0m: \toptimizer: sgd\n",
      "\u001b[34m\u001b[1mwandb\u001b[0m: \tweight_decay: 0.5\n",
      "\u001b[34m\u001b[1mwandb\u001b[0m: \tweight_init: random\n"
     ]
    },
    {
     "data": {
      "text/html": [
       "Ignoring project 'DLA1' when running a sweep."
      ],
      "text/plain": [
       "<IPython.core.display.HTML object>"
      ]
     },
     "metadata": {},
     "output_type": "display_data"
    },
    {
     "data": {
      "text/html": [
       "Ignoring entity 'da24m014' when running a sweep."
      ],
      "text/plain": [
       "<IPython.core.display.HTML object>"
      ]
     },
     "metadata": {},
     "output_type": "display_data"
    },
    {
     "data": {
      "text/html": [],
      "text/plain": [
       "<IPython.core.display.HTML object>"
      ]
     },
     "metadata": {},
     "output_type": "display_data"
    },
    {
     "data": {
      "text/html": [
       "Tracking run with wandb version 0.19.7"
      ],
      "text/plain": [
       "<IPython.core.display.HTML object>"
      ]
     },
     "metadata": {},
     "output_type": "display_data"
    },
    {
     "data": {
      "text/html": [
       "Run data is saved locally in <code>d:\\IIT Madras\\SEM 2\\Deep Learning\\Assignment-1-DL\\wandb\\run-20250310_083119-d1ctt9zq</code>"
      ],
      "text/plain": [
       "<IPython.core.display.HTML object>"
      ]
     },
     "metadata": {},
     "output_type": "display_data"
    },
    {
     "data": {
      "text/html": [
       "Syncing run <strong><a href='https://wandb.ai/da24m014-iit-madras/DLA1/runs/d1ctt9zq' target=\"_blank\">northern-sweep-9</a></strong> to <a href='https://wandb.ai/da24m014-iit-madras/DLA1' target=\"_blank\">Weights & Biases</a> (<a href='https://wandb.me/developer-guide' target=\"_blank\">docs</a>)<br>Sweep page: <a href='https://wandb.ai/da24m014-iit-madras/DLA1/sweeps/2devlgbi' target=\"_blank\">https://wandb.ai/da24m014-iit-madras/DLA1/sweeps/2devlgbi</a>"
      ],
      "text/plain": [
       "<IPython.core.display.HTML object>"
      ]
     },
     "metadata": {},
     "output_type": "display_data"
    },
    {
     "data": {
      "text/html": [
       " View project at <a href='https://wandb.ai/da24m014-iit-madras/DLA1' target=\"_blank\">https://wandb.ai/da24m014-iit-madras/DLA1</a>"
      ],
      "text/plain": [
       "<IPython.core.display.HTML object>"
      ]
     },
     "metadata": {},
     "output_type": "display_data"
    },
    {
     "data": {
      "text/html": [
       " View sweep at <a href='https://wandb.ai/da24m014-iit-madras/DLA1/sweeps/2devlgbi' target=\"_blank\">https://wandb.ai/da24m014-iit-madras/DLA1/sweeps/2devlgbi</a>"
      ],
      "text/plain": [
       "<IPython.core.display.HTML object>"
      ]
     },
     "metadata": {},
     "output_type": "display_data"
    },
    {
     "data": {
      "text/html": [
       " View run at <a href='https://wandb.ai/da24m014-iit-madras/DLA1/runs/d1ctt9zq' target=\"_blank\">https://wandb.ai/da24m014-iit-madras/DLA1/runs/d1ctt9zq</a>"
      ],
      "text/plain": [
       "<IPython.core.display.HTML object>"
      ]
     },
     "metadata": {},
     "output_type": "display_data"
    },
    {
     "data": {
      "text/html": [
       "uploading artifact run-d1ctt9zq-confusion_matrix_table (2.1s)<br>  ↳ confusion_matrix_table.table.json 3.3KB/3.3KB (0.9s)"
      ],
      "text/plain": [
       "<IPython.core.display.HTML object>"
      ]
     },
     "metadata": {},
     "output_type": "display_data"
    }
   ],
   "source": [
    "def train_with_wandb():\n",
    "    wandb.init(project=\"DLA1\", entity=\"da24m014\") # Ensure WandB is initialized before using config\n",
    "    config = wandb.config\n",
    "    run_name = f\"hl_{config.hidden_layers}_bs_{config.batch_size}_ac_{config.activation}\"\n",
    "    wandb.run.name = run_name\n",
    "    model = NeuralNetwork([784] + [config.hidden_size] * config.hidden_layers + [10],\n",
    "                          learning_rate=config.learning_rate,\n",
    "                          activation=config.activation,\n",
    "                          optimizer=config.optimizer,\n",
    "                          weight_init=config.weight_init,\n",
    "                          weight_decay=config.weight_decay,\n",
    "                          )\n",
    "    model.train(x_train, y_train, x_test, y_test, config.epochs, config.batch_size)\n",
    "    # wandb.finish()\n",
    "wandb.agent(sweep_id, function=train_with_wandb)\n"
   ]
  },
  {
   "cell_type": "code",
   "execution_count": null,
   "metadata": {},
   "outputs": [
    {
     "name": "stdout",
     "output_type": "stream",
     "text": [
      "Create sweep with ID: u41u1yle\n",
      "Sweep URL: https://wandb.ai/da24m014-iit-madras/DLA1/sweeps/u41u1yle\n"
     ]
    },
    {
     "name": "stderr",
     "output_type": "stream",
     "text": [
      "\u001b[34m\u001b[1mwandb\u001b[0m: Agent Starting Run: h2na2flp with config:\n",
      "\u001b[34m\u001b[1mwandb\u001b[0m: \tstep: 1\n"
     ]
    },
    {
     "data": {
      "text/html": [
       "creating run (0.3s)"
      ],
      "text/plain": [
       "<IPython.core.display.HTML object>"
      ]
     },
     "metadata": {},
     "output_type": "display_data"
    },
    {
     "data": {
      "text/html": [
       "Tracking run with wandb version 0.19.7"
      ],
      "text/plain": [
       "<IPython.core.display.HTML object>"
      ]
     },
     "metadata": {},
     "output_type": "display_data"
    },
    {
     "data": {
      "text/html": [
       "Run data is saved locally in <code>d:\\IIT Madras\\SEM 2\\Deep Learning\\Assignment-1-DL\\wandb\\run-20250309_210658-h2na2flp</code>"
      ],
      "text/plain": [
       "<IPython.core.display.HTML object>"
      ]
     },
     "metadata": {},
     "output_type": "display_data"
    },
    {
     "data": {
      "text/html": [
       "Syncing run <strong><a href='https://wandb.ai/da24m014-iit-madras/DLA1/runs/h2na2flp' target=\"_blank\">dashing-sweep-1</a></strong> to <a href='https://wandb.ai/da24m014-iit-madras/DLA1' target=\"_blank\">Weights & Biases</a> (<a href='https://wandb.me/developer-guide' target=\"_blank\">docs</a>)<br>Sweep page: <a href='https://wandb.ai/da24m014-iit-madras/DLA1/sweeps/u41u1yle' target=\"_blank\">https://wandb.ai/da24m014-iit-madras/DLA1/sweeps/u41u1yle</a>"
      ],
      "text/plain": [
       "<IPython.core.display.HTML object>"
      ]
     },
     "metadata": {},
     "output_type": "display_data"
    },
    {
     "data": {
      "text/html": [
       " View project at <a href='https://wandb.ai/da24m014-iit-madras/DLA1' target=\"_blank\">https://wandb.ai/da24m014-iit-madras/DLA1</a>"
      ],
      "text/plain": [
       "<IPython.core.display.HTML object>"
      ]
     },
     "metadata": {},
     "output_type": "display_data"
    },
    {
     "data": {
      "text/html": [
       " View sweep at <a href='https://wandb.ai/da24m014-iit-madras/DLA1/sweeps/u41u1yle' target=\"_blank\">https://wandb.ai/da24m014-iit-madras/DLA1/sweeps/u41u1yle</a>"
      ],
      "text/plain": [
       "<IPython.core.display.HTML object>"
      ]
     },
     "metadata": {},
     "output_type": "display_data"
    },
    {
     "data": {
      "text/html": [
       " View run at <a href='https://wandb.ai/da24m014-iit-madras/DLA1/runs/h2na2flp' target=\"_blank\">https://wandb.ai/da24m014-iit-madras/DLA1/runs/h2na2flp</a>"
      ],
      "text/plain": [
       "<IPython.core.display.HTML object>"
      ]
     },
     "metadata": {},
     "output_type": "display_data"
    },
    {
     "name": "stdout",
     "output_type": "stream",
     "text": [
      "🔍 Debug: best_model_data = {'weights': [array([[-0.05788462,  0.08496019, -0.05119562, ...,  0.0701345 ,\n",
      "         0.01479301,  0.04767529],\n",
      "       [ 0.06669954,  0.01728071, -0.0856756 , ...,  0.02924542,\n",
      "         0.08063394, -0.02059263],\n",
      "       [ 0.050122  , -0.02708433, -0.06578396, ...,  0.09756137,\n",
      "        -0.04458298, -0.09899987],\n",
      "       ...,\n",
      "       [ 0.08508743,  0.03929655,  0.01109719, ..., -0.06215915,\n",
      "         0.0931534 , -0.02353104],\n",
      "       [ 0.04418404, -0.07261056, -0.00472867, ...,  0.04211466,\n",
      "        -0.06445477,  0.07507458],\n",
      "       [-0.03740737, -0.06406585, -0.00175301, ..., -0.02057951,\n",
      "        -0.04539039,  0.01478242]]), array([[-0.00771372, -0.04418907,  0.06296483, ...,  0.09870522,\n",
      "        -0.027208  , -0.0299819 ],\n",
      "       [-0.0623371 , -0.07893196, -0.09093062, ...,  0.06639135,\n",
      "        -0.01731383, -0.03968825],\n",
      "       [-0.07107343,  0.0255112 ,  0.02029273, ..., -0.06438042,\n",
      "        -0.02434645, -0.01852116],\n",
      "       ...,\n",
      "       [ 0.08711777, -0.10203015, -0.01137003, ..., -0.03509163,\n",
      "         0.08959354, -0.02090121],\n",
      "       [ 0.07984323,  0.04606766, -0.03629889, ..., -0.00533064,\n",
      "        -0.00042896,  0.02227769],\n",
      "       [-0.00154062,  0.07726878,  0.02357044, ...,  0.07346309,\n",
      "        -0.09007891,  0.0992261 ]]), array([[-0.04762916,  0.03945164, -0.08798248, ...,  0.04873959,\n",
      "        -0.08934837,  0.0563223 ],\n",
      "       [ 0.09711806,  0.01930409, -0.09418834, ...,  0.03028724,\n",
      "        -0.06830401,  0.02218596],\n",
      "       [-0.00147618, -0.03707569,  0.03613225, ...,  0.0586068 ,\n",
      "        -0.06630156,  0.04946245],\n",
      "       ...,\n",
      "       [-0.03396162,  0.05791304,  0.0824094 , ...,  0.06080934,\n",
      "        -0.0214664 , -0.00156262],\n",
      "       [ 0.06392317,  0.0636813 ,  0.0030491 , ...,  0.01699669,\n",
      "        -0.05414972, -0.00458998],\n",
      "       [ 0.02981053,  0.04098125, -0.00037409, ...,  0.09174682,\n",
      "         0.04252834,  0.05505622]]), array([[ 0.04273479,  0.05575839, -0.07428829, ..., -0.0114235 ,\n",
      "         0.03528682, -0.00596798],\n",
      "       [-0.04922145, -0.01405468,  0.0826304 , ...,  0.00316887,\n",
      "         0.03390908, -0.04239992],\n",
      "       [-0.04790807, -0.07526627, -0.00581147, ..., -0.09800891,\n",
      "        -0.01104541, -0.01941025],\n",
      "       ...,\n",
      "       [ 0.07567342,  0.07280814, -0.02612794, ..., -0.04171959,\n",
      "        -0.03663424, -0.0075817 ],\n",
      "       [ 0.04921893,  0.00816143,  0.02677215, ..., -0.05965065,\n",
      "        -0.09076998, -0.04503262],\n",
      "       [ 0.02130011, -0.05740721, -0.00739915, ...,  0.02062445,\n",
      "        -0.06990692,  0.06811561]]), array([[-8.34451872e-02, -8.21656458e-02, -7.01391750e-03,\n",
      "        -9.95043779e-02, -4.18396444e-03, -5.24629504e-02,\n",
      "         8.59809344e-02,  9.92525519e-02,  2.55690128e-02,\n",
      "         1.12916529e-01],\n",
      "       [ 2.76284001e-02, -6.30861095e-02, -6.99799776e-02,\n",
      "         4.96762024e-02,  1.14243627e-02,  8.38058073e-03,\n",
      "        -9.26065310e-02,  1.21384910e-02, -3.02434301e-02,\n",
      "        -9.34858879e-03],\n",
      "       [ 3.24619674e-02, -3.07128900e-02,  9.30459087e-02,\n",
      "         4.37026167e-02,  6.51923993e-02,  9.21360486e-02,\n",
      "        -5.12813259e-02, -5.08689320e-03, -3.80367092e-03,\n",
      "         6.79569665e-02],\n",
      "       [ 2.79108328e-02,  6.24811540e-03, -7.02231716e-02,\n",
      "         2.86641937e-02, -3.66073451e-02,  2.78740060e-02,\n",
      "         8.82327872e-02,  5.00423528e-02,  9.34953632e-02,\n",
      "        -7.12492166e-02],\n",
      "       [-2.30648012e-02, -1.43052164e-02, -6.01241756e-02,\n",
      "         1.10243660e-01,  5.33524727e-02, -5.02804976e-02,\n",
      "         6.41219967e-02, -7.63727437e-02, -3.04917517e-02,\n",
      "        -1.33047971e-01],\n",
      "       [-5.68705010e-02, -4.15040717e-02,  8.94981410e-02,\n",
      "         9.78705620e-02,  2.87627863e-02, -8.44258469e-02,\n",
      "        -7.77036518e-02,  1.02426884e-01,  3.51028540e-03,\n",
      "        -7.53905684e-03],\n",
      "       [-2.48290737e-02,  3.79312999e-02, -8.58683973e-02,\n",
      "        -3.27563204e-02,  3.24249831e-02, -2.75472538e-02,\n",
      "        -8.58303272e-03, -4.85599371e-02, -1.14801055e-02,\n",
      "         6.35252497e-02],\n",
      "       [-3.31362337e-02, -3.89911554e-02,  7.98119750e-02,\n",
      "         2.66799563e-02,  2.73166883e-02, -6.64177777e-02,\n",
      "        -9.90404727e-02,  3.53920174e-02,  4.75481122e-02,\n",
      "        -9.54308048e-02],\n",
      "       [-1.18807943e-02, -7.12778200e-02,  1.26309623e-02,\n",
      "         5.92156722e-02, -8.24512235e-02,  8.19450522e-02,\n",
      "         1.71424341e-02, -5.02103788e-02, -7.37034866e-02,\n",
      "        -7.72445368e-02],\n",
      "       [-2.37139744e-02,  1.11958717e-01,  1.77648300e-02,\n",
      "        -3.48498418e-02,  2.66250251e-02,  3.02141372e-02,\n",
      "         6.93710321e-02, -1.32254280e-01, -9.57056858e-02,\n",
      "         6.42543257e-02],\n",
      "       [-3.33336605e-02, -8.52367068e-02,  1.97582954e-02,\n",
      "         9.51365959e-02, -2.62341780e-02,  7.04266764e-02,\n",
      "         9.86454419e-02,  7.25351542e-02,  9.63413492e-02,\n",
      "        -5.46796533e-02],\n",
      "       [ 8.16029369e-02,  5.81463981e-02,  4.96501939e-02,\n",
      "         2.38494010e-02, -2.43328770e-02,  6.36792583e-02,\n",
      "        -2.41389825e-03, -4.28949335e-02,  4.92122016e-02,\n",
      "         8.86910304e-02],\n",
      "       [ 3.80524009e-03,  9.88406423e-02, -9.59768882e-02,\n",
      "        -5.98877642e-02,  1.06156243e-02,  4.41795412e-02,\n",
      "        -3.52520641e-03, -1.56358764e-02, -8.52172762e-02,\n",
      "        -3.01626047e-02],\n",
      "       [-8.14013781e-02, -5.76452671e-02,  6.06996695e-02,\n",
      "        -8.84524101e-02, -6.41648996e-02, -7.81068853e-02,\n",
      "         4.07331766e-02, -3.29732209e-02, -8.13444985e-02,\n",
      "        -2.86441914e-02],\n",
      "       [-6.84786690e-02, -3.51617678e-02, -6.76158202e-02,\n",
      "        -9.86919992e-02, -9.72318870e-02,  2.03954554e-02,\n",
      "         3.16837551e-02,  5.96685655e-02, -2.34217905e-02,\n",
      "         7.82407433e-03],\n",
      "       [ 3.62188394e-02, -3.79326318e-02, -7.98777480e-02,\n",
      "         3.88888038e-03, -6.35218387e-02,  5.73656548e-02,\n",
      "         7.47649940e-02, -6.80463417e-02,  5.47542534e-03,\n",
      "        -3.57763404e-02],\n",
      "       [ 8.30262950e-02, -3.12461619e-03,  3.95933496e-02,\n",
      "        -6.28437907e-02, -6.73144500e-02, -6.52460893e-02,\n",
      "        -9.58849965e-02, -6.45109845e-03, -4.20258536e-02,\n",
      "        -8.62143213e-02],\n",
      "       [-3.70752511e-02, -7.87602715e-03,  3.28512736e-02,\n",
      "         9.28592872e-02,  2.31080226e-02,  8.20066203e-02,\n",
      "         1.27213876e-02, -8.30410496e-02,  8.88400327e-02,\n",
      "        -4.42634614e-02],\n",
      "       [ 2.28468556e-02, -3.15832964e-02, -2.73638387e-02,\n",
      "         7.99106162e-02,  3.55208518e-02, -5.88511702e-02,\n",
      "        -6.84451632e-02,  5.99902845e-02,  2.49345139e-02,\n",
      "         3.88256229e-02],\n",
      "       [-5.69432719e-02,  5.05527498e-02,  4.01821499e-02,\n",
      "         6.55155708e-02, -3.18082556e-02, -9.05467275e-03,\n",
      "         6.16420079e-02,  6.91061138e-02,  6.91954906e-02,\n",
      "         7.04527113e-02],\n",
      "       [-1.79984328e-02, -1.93114244e-02, -5.44017941e-02,\n",
      "         1.24682851e-03,  5.96847450e-04,  2.43488388e-02,\n",
      "         9.59279130e-02,  2.08500965e-02, -9.47722625e-03,\n",
      "         8.12952285e-02],\n",
      "       [ 7.52356197e-02, -6.41267081e-02,  9.22450554e-02,\n",
      "         7.97678476e-02,  3.32322857e-03, -5.73298804e-02,\n",
      "         6.06299197e-02,  7.70281378e-03, -5.01283383e-02,\n",
      "        -5.54217016e-02],\n",
      "       [-4.53100236e-02, -2.69201192e-02, -1.79667277e-02,\n",
      "        -9.01216616e-02,  3.25804414e-02,  3.69331109e-02,\n",
      "         2.74124005e-02, -8.11257722e-02, -7.10787260e-02,\n",
      "         7.95327512e-02],\n",
      "       [-4.50065770e-02, -5.06537629e-02,  4.09216151e-02,\n",
      "         8.35136710e-02, -6.23891067e-02, -5.16028868e-02,\n",
      "         7.27242667e-02, -1.04366612e-01,  6.01295392e-02,\n",
      "         7.85625877e-02],\n",
      "       [-2.25713284e-03,  7.92251282e-02, -1.20595299e-01,\n",
      "        -1.00711304e-01, -1.32138366e-01,  8.83166934e-02,\n",
      "        -9.24597136e-02,  1.32177670e-01, -1.51806111e-02,\n",
      "         9.41438122e-02],\n",
      "       [ 8.38659579e-03, -8.67329452e-02,  1.51642149e-02,\n",
      "        -7.21767025e-02,  8.83338472e-03,  3.10446163e-02,\n",
      "        -3.15716041e-02, -4.72201019e-02,  4.51549783e-02,\n",
      "        -2.75783188e-02],\n",
      "       [-5.28163876e-02, -2.54451687e-02, -4.47460496e-02,\n",
      "        -1.50146064e-02, -1.39861219e-02, -3.60478072e-02,\n",
      "         2.99670993e-02, -8.76298526e-03,  6.83194719e-02,\n",
      "         3.23809692e-02],\n",
      "       [ 6.07276913e-02, -6.04056467e-02,  7.83493167e-02,\n",
      "        -9.64446939e-02, -1.65238631e-02,  3.50093218e-02,\n",
      "        -5.19405177e-02,  4.45968313e-02, -7.22162023e-02,\n",
      "         1.04541562e-01],\n",
      "       [ 8.08649544e-02,  3.83406165e-02, -9.80924055e-02,\n",
      "        -1.73853503e-02,  6.36930927e-02,  9.80494378e-02,\n",
      "        -9.43799600e-02, -9.90853847e-02, -1.00341755e-02,\n",
      "         4.70530913e-02],\n",
      "       [-7.66505086e-02,  2.81798323e-02, -8.89236763e-03,\n",
      "        -1.49684260e-02, -2.13558534e-02,  4.53402424e-02,\n",
      "        -5.52717505e-02, -7.50055159e-02,  2.61442711e-02,\n",
      "        -5.97550251e-02],\n",
      "       [ 4.87226101e-02,  1.03008901e-02,  4.94034636e-02,\n",
      "        -8.22945573e-02,  3.65244556e-02, -2.13529295e-06,\n",
      "         8.66012420e-02,  2.97745309e-02, -5.68929324e-02,\n",
      "         5.93279483e-02],\n",
      "       [-5.46193960e-02,  9.23773471e-02, -7.67621251e-02,\n",
      "         2.89550124e-02,  3.29392209e-02, -1.14607041e-01,\n",
      "        -1.59243263e-02, -1.08925576e-01, -1.66073505e-02,\n",
      "         9.63062655e-02]])], 'biases': [array([[ 1.00910479e-03,  8.57777718e-04, -7.89445263e-04,\n",
      "        -4.16523217e-06,  1.58648715e-03,  2.13887651e-03,\n",
      "         1.19008701e-03,  1.39803456e-03,  3.74406196e-04,\n",
      "        -1.09268807e-03,  1.35604735e-03, -1.78471255e-03,\n",
      "         4.75522247e-03,  2.56978085e-03,  6.56270062e-04,\n",
      "         7.41556378e-04,  3.21434709e-03,  6.19192222e-04,\n",
      "         5.04913647e-05,  1.05507295e-03, -5.27414678e-04,\n",
      "         1.48761154e-03, -1.30164849e-05,  7.76294217e-04,\n",
      "        -6.39158812e-04,  4.58483150e-04, -6.31852786e-05,\n",
      "        -6.58313895e-04,  2.44927711e-03,  4.31461300e-04,\n",
      "         2.99473046e-03,  1.12167109e-03]]), array([[ 5.69046503e-03,  8.51626316e-04,  1.66870320e-02,\n",
      "         7.63339345e-03,  1.76752836e-03,  4.73711984e-03,\n",
      "        -4.78576763e-05,  2.86716324e-03,  4.85180316e-04,\n",
      "         3.42331192e-03,  4.39743621e-03,  7.40659791e-03,\n",
      "         5.82873876e-03, -1.46206965e-03, -6.22110860e-03,\n",
      "         5.40231580e-03,  7.59313296e-03,  4.21748284e-03,\n",
      "         1.08079391e-03,  3.62955605e-04,  4.40102099e-03,\n",
      "         1.41930321e-03, -1.66140494e-03,  5.64468101e-03,\n",
      "        -5.57443791e-03,  3.44420227e-04,  6.74603404e-04,\n",
      "         8.26975101e-04,  1.53541439e-02,  5.80942808e-05,\n",
      "        -3.06719760e-03, -6.38085851e-03]]), array([[-5.71313124e-03,  2.87305577e-04,  4.81192150e-06,\n",
      "         1.02830687e-02,  1.13492548e-03, -2.99986636e-03,\n",
      "        -1.31053737e-04,  2.20219001e-03, -1.54338567e-02,\n",
      "        -8.23301475e-04, -9.45077577e-04,  4.05094996e-03,\n",
      "         7.56160572e-04,  1.95586848e-02,  8.12468573e-04,\n",
      "         2.49718235e-03,  9.18194239e-02,  2.82247360e-02,\n",
      "        -6.48635431e-06,  4.34131528e-02,  0.00000000e+00,\n",
      "        -1.01012855e-02, -3.21696341e-03,  6.74241722e-03,\n",
      "         1.58805239e-02,  5.63383108e-04,  1.76739266e-02,\n",
      "         4.37982545e-04,  8.31868576e-03, -4.33248016e-03,\n",
      "         2.45283113e-02,  1.37127763e-03]]), array([[ 3.32672692e-02,  1.79429538e-02, -1.54181312e-03,\n",
      "         2.14477795e-04,  1.46268049e-02,  1.87586526e-02,\n",
      "        -9.82337580e-03, -4.02554442e-03, -1.37348596e-02,\n",
      "         1.99647557e-02, -9.84566865e-03,  3.27269513e-03,\n",
      "         1.88917140e-04, -1.26931265e-02,  3.30439115e-02,\n",
      "        -4.15477886e-02, -7.06575419e-03, -1.25223570e-02,\n",
      "        -3.75087974e-04, -1.80148441e-03,  2.12524472e-02,\n",
      "         9.02004944e-03,  7.95894917e-05,  1.32137484e-02,\n",
      "         8.80910623e-02,  9.53905640e-04, -6.55618579e-04,\n",
      "         1.35580498e-02, -6.07192055e-03, -2.84592882e-03,\n",
      "        -1.28591635e-02,  7.46611484e-04]]), array([[-0.0015586 ,  0.00148461,  0.00360825, -0.00294724, -0.00258363,\n",
      "         0.00426168,  0.00154278,  0.00795576,  0.00015972, -0.01192333]])], 'params': {'layers': [784, 32, 32, 32, 32, 10], 'learning_rate': 0.001, 'activation': 'relu', 'optimizer': 'momentum', 'weight_init': 'random', 'weight_decay': 0, 'beta': 0.5, 'beta1': 0.5, 'beta2': 0.5, 'epsilon': 1e-06}, 'best_accuracy': 0.2292}\n"
     ]
    },
    {
     "data": {
      "text/html": [
       "Ignoring project 'DLA1' when running a sweep."
      ],
      "text/plain": [
       "<IPython.core.display.HTML object>"
      ]
     },
     "metadata": {},
     "output_type": "display_data"
    },
    {
     "data": {
      "text/html": [],
      "text/plain": [
       "<IPython.core.display.HTML object>"
      ]
     },
     "metadata": {},
     "output_type": "display_data"
    },
    {
     "data": {
      "text/html": [
       " View run <strong style=\"color:#cdcd00\">dashing-sweep-1</strong> at: <a href='https://wandb.ai/da24m014-iit-madras/DLA1/runs/h2na2flp' target=\"_blank\">https://wandb.ai/da24m014-iit-madras/DLA1/runs/h2na2flp</a><br> View project at: <a href='https://wandb.ai/da24m014-iit-madras/DLA1' target=\"_blank\">https://wandb.ai/da24m014-iit-madras/DLA1</a><br>Synced 5 W&B file(s), 0 media file(s), 0 artifact file(s) and 0 other file(s)"
      ],
      "text/plain": [
       "<IPython.core.display.HTML object>"
      ]
     },
     "metadata": {},
     "output_type": "display_data"
    },
    {
     "data": {
      "text/html": [
       "Find logs at: <code>.\\wandb\\run-20250309_210658-h2na2flp\\logs</code>"
      ],
      "text/plain": [
       "<IPython.core.display.HTML object>"
      ]
     },
     "metadata": {},
     "output_type": "display_data"
    },
    {
     "data": {
      "text/html": [],
      "text/plain": [
       "<IPython.core.display.HTML object>"
      ]
     },
     "metadata": {},
     "output_type": "display_data"
    },
    {
     "data": {
      "text/html": [
       "Tracking run with wandb version 0.19.7"
      ],
      "text/plain": [
       "<IPython.core.display.HTML object>"
      ]
     },
     "metadata": {},
     "output_type": "display_data"
    },
    {
     "data": {
      "text/html": [
       "Run data is saved locally in <code>d:\\IIT Madras\\SEM 2\\Deep Learning\\Assignment-1-DL\\wandb\\run-20250309_210700-h2na2flp</code>"
      ],
      "text/plain": [
       "<IPython.core.display.HTML object>"
      ]
     },
     "metadata": {},
     "output_type": "display_data"
    },
    {
     "data": {
      "text/html": [
       "Syncing run <strong><a href='https://wandb.ai/da24m014-iit-madras/DLA1/runs/h2na2flp' target=\"_blank\">confusion_matrix_step_1</a></strong> to <a href='https://wandb.ai/da24m014-iit-madras/DLA1' target=\"_blank\">Weights & Biases</a> (<a href='https://wandb.me/developer-guide' target=\"_blank\">docs</a>)<br>Sweep page: <a href='https://wandb.ai/da24m014-iit-madras/DLA1/sweeps/u41u1yle' target=\"_blank\">https://wandb.ai/da24m014-iit-madras/DLA1/sweeps/u41u1yle</a>"
      ],
      "text/plain": [
       "<IPython.core.display.HTML object>"
      ]
     },
     "metadata": {},
     "output_type": "display_data"
    },
    {
     "data": {
      "text/html": [
       " View project at <a href='https://wandb.ai/da24m014-iit-madras/DLA1' target=\"_blank\">https://wandb.ai/da24m014-iit-madras/DLA1</a>"
      ],
      "text/plain": [
       "<IPython.core.display.HTML object>"
      ]
     },
     "metadata": {},
     "output_type": "display_data"
    },
    {
     "data": {
      "text/html": [
       " View sweep at <a href='https://wandb.ai/da24m014-iit-madras/DLA1/sweeps/u41u1yle' target=\"_blank\">https://wandb.ai/da24m014-iit-madras/DLA1/sweeps/u41u1yle</a>"
      ],
      "text/plain": [
       "<IPython.core.display.HTML object>"
      ]
     },
     "metadata": {},
     "output_type": "display_data"
    },
    {
     "data": {
      "text/html": [
       " View run at <a href='https://wandb.ai/da24m014-iit-madras/DLA1/runs/h2na2flp' target=\"_blank\">https://wandb.ai/da24m014-iit-madras/DLA1/runs/h2na2flp</a>"
      ],
      "text/plain": [
       "<IPython.core.display.HTML object>"
      ]
     },
     "metadata": {},
     "output_type": "display_data"
    },
    {
     "name": "stdout",
     "output_type": "stream",
     "text": [
      "✅ Confusion matrix logged for step 1!\n"
     ]
    },
    {
     "data": {
      "text/html": [],
      "text/plain": [
       "<IPython.core.display.HTML object>"
      ]
     },
     "metadata": {},
     "output_type": "display_data"
    },
    {
     "data": {
      "text/html": [
       "<br>    <style><br>        .wandb-row {<br>            display: flex;<br>            flex-direction: row;<br>            flex-wrap: wrap;<br>            justify-content: flex-start;<br>            width: 100%;<br>        }<br>        .wandb-col {<br>            display: flex;<br>            flex-direction: column;<br>            flex-basis: 100%;<br>            flex: 1;<br>            padding: 10px;<br>        }<br>    </style><br><div class=\"wandb-row\"><div class=\"wandb-col\"><h3>Run history:</h3><br/><table class=\"wandb\"><tr><td>step</td><td>▁</td></tr></table><br/></div><div class=\"wandb-col\"><h3>Run summary:</h3><br/><table class=\"wandb\"><tr><td>step</td><td>1</td></tr></table><br/></div></div>"
      ],
      "text/plain": [
       "<IPython.core.display.HTML object>"
      ]
     },
     "metadata": {},
     "output_type": "display_data"
    },
    {
     "data": {
      "text/html": [
       " View run <strong style=\"color:#cdcd00\">confusion_matrix_step_1</strong> at: <a href='https://wandb.ai/da24m014-iit-madras/DLA1/runs/h2na2flp' target=\"_blank\">https://wandb.ai/da24m014-iit-madras/DLA1/runs/h2na2flp</a><br> View project at: <a href='https://wandb.ai/da24m014-iit-madras/DLA1' target=\"_blank\">https://wandb.ai/da24m014-iit-madras/DLA1</a><br>Synced 5 W&B file(s), 1 media file(s), 2 artifact file(s) and 0 other file(s)"
      ],
      "text/plain": [
       "<IPython.core.display.HTML object>"
      ]
     },
     "metadata": {},
     "output_type": "display_data"
    },
    {
     "data": {
      "text/html": [
       "Find logs at: <code>.\\wandb\\run-20250309_210700-h2na2flp\\logs</code>"
      ],
      "text/plain": [
       "<IPython.core.display.HTML object>"
      ]
     },
     "metadata": {},
     "output_type": "display_data"
    },
    {
     "name": "stderr",
     "output_type": "stream",
     "text": [
      "\u001b[34m\u001b[1mwandb\u001b[0m: Sweep Agent: Waiting for job.\n",
      "\u001b[34m\u001b[1mwandb\u001b[0m: Sweep Agent: Exiting.\n"
     ]
    }
   ],
   "source": [
    "# import wandb\n",
    "# from sklearn.metrics import confusion_matrix\n",
    "\n",
    "# # Define the sweep configuration\n",
    "# sweep_config = {\n",
    "#     \"method\": \"grid\",\n",
    "#     \"metric\": {\"name\": \"step\", \"goal\": \"maximize\"},\n",
    "#     \"parameters\": {\"step\": {\"values\": [1]}}\n",
    "# }\n",
    "\n",
    "# # Initialize the W&B sweep\n",
    "# sweep_id = wandb.sweep(sweep_config, project=\"DLA1\")\n",
    "\n",
    "# # Function to load best model\n",
    "# def load_best_model(model):\n",
    "#     \"\"\"Load stored model weights & biases.\"\"\"\n",
    "#     global best_model_data\n",
    "#     if not best_model_data:\n",
    "#         raise ValueError(\"❌ Error: best_model_data is None. Ensure the model was saved correctly.\")\n",
    "    \n",
    "#     if best_model_data[\"weights\"] is not None and best_model_data[\"biases\"] is not None:\n",
    "#         model.weights = [W.copy() for W in best_model_data[\"weights\"]]\n",
    "#         model.biases = [b.copy() for b in best_model_data[\"biases\"]]\n",
    "#         print(\"✅ Best model loaded!\")\n",
    "\n",
    "# # Function to compute and log confusion matrix\n",
    "# def log_confusion_matrix(model, X_test, y_test, step):\n",
    "#     \"\"\"Compute & log confusion matrix at different steps.\"\"\"\n",
    "#     wandb.init(project=\"DLA1\", name=f\"confusion_matrix_step_{step}\", reinit=True)\n",
    "\n",
    "#     # Load best model\n",
    "#     load_best_model(model)\n",
    "\n",
    "#     # Forward pass to get predictions\n",
    "#     y_pred = model.forward(X_test)\n",
    "#     y_pred_classes = np.argmax(y_pred, axis=1)\n",
    "#     y_true_classes = np.argmax(y_test, axis=1)\n",
    "\n",
    "#     # Compute confusion matrix\n",
    "#     cm = confusion_matrix(y_true_classes, y_pred_classes)\n",
    "\n",
    "#     # Log confusion matrix & step\n",
    "#     wandb.log({\n",
    "#         \"step\": step,\n",
    "#         \"confusion_matrix\": wandb.plot.confusion_matrix(\n",
    "#             probs=None,\n",
    "#             y_true=y_true_classes,\n",
    "#             preds=y_pred_classes,\n",
    "#             class_names=[str(i) for i in range(cm.shape[0])]\n",
    "#         )\n",
    "#     })\n",
    "\n",
    "#     print(f\"✅ Confusion matrix logged for step {step}!\")\n",
    "#     wandb.finish()\n",
    "\n",
    "# # Function to run the sweep\n",
    "# def confusion_matrix_sweep():\n",
    "#     wandb.init()\n",
    "#     step = wandb.config.step  # Get step from sweep config\n",
    "\n",
    "#     global best_model_data\n",
    "#     if best_model_data is None:\n",
    "#         raise ValueError(\"❌ Error: best_model_data is None. Load the model before running the sweep.\")\n",
    "\n",
    "#     print(f\"🔍 Debug: best_model_data = {best_model_data}\")  # Debugging print\n",
    "\n",
    "#     # Step 1: Retrieve architecture & training parameters\n",
    "#     params = best_model_data.get(\"params\", {})\n",
    "    \n",
    "#     if not params:\n",
    "#         raise ValueError(\"❌ Error: No 'params' found in best_model_data.\")\n",
    "\n",
    "#     layers = params.get(\"layers\", None)\n",
    "#     learning_rate = params[\"learning_rate\"]\n",
    "#     activation = params[\"activation\"]\n",
    "#     optimizer = params[\"optimizer\"]\n",
    "#     weight_init = params[\"weight_init\"]\n",
    "#     weight_decay = params[\"weight_decay\"]\n",
    "#     beta = params[\"beta\"]\n",
    "#     beta1 = params[\"beta1\"]\n",
    "#     beta2 = params[\"beta2\"]\n",
    "#     epsilon = params[\"epsilon\"]\n",
    "\n",
    "#     # Step 2: Recreate the model\n",
    "#     model = NeuralNetwork(layers, learning_rate, activation, optimizer, weight_init, weight_decay, beta, beta1, beta2, epsilon)\n",
    "\n",
    "#     # Step 3: Log confusion matrix\n",
    "#     log_confusion_matrix(model, x_test, y_test, step)\n",
    "\n",
    "# # Start the W&B sweep agent\n",
    "# wandb.agent(sweep_id, function=confusion_matrix_sweep, count=5)\n"
   ]
  },
  {
   "cell_type": "code",
   "execution_count": null,
   "metadata": {},
   "outputs": [],
   "source": [
    "# def load_best_model(model):\n",
    "#     \"\"\"Load the best stored model parameters from global variables into a given model.\"\"\"\n",
    "#     global best_model_data\n",
    "#     if best_model_data[\"weights\"] is not None and best_model_data[\"biases\"] is not None:\n",
    "#         model.weights = [W.copy() for W in best_model_data[\"weights\"]]\n",
    "#         model.biases = [b.copy() for b in best_model_data[\"biases\"]]\n",
    "#         print(\"✅ Best model loaded!\")\n",
    "#     else:\n",
    "#         print(\"⚠️ No best model found. Train the model first.\")\n"
   ]
  },
  {
   "cell_type": "code",
   "execution_count": null,
   "metadata": {},
   "outputs": [],
   "source": [
    "# from sklearn.metrics import confusion_matrix\n",
    "\n",
    "# def log_confusion_matrix(model, X_test, y_test):\n",
    "#     \"\"\"\n",
    "#     Uses the best stored model to compute predictions, create a confusion matrix, \n",
    "#     and log it in Weights & Biases.\n",
    "#     \"\"\"\n",
    "#     # Initialize a separate WandB run for logging confusion matrix\n",
    "#     wandb.init(project=\"DLA1\", name=\"confusion_matrix_run\", reinit=True)\n",
    "\n",
    "#     # Load best model (from stored variables)\n",
    "#     load_best_model(model)\n",
    "\n",
    "#     # Forward pass to get predictions\n",
    "#     y_pred = model.forward(X_test)\n",
    "#     y_pred_classes = np.argmax(y_pred, axis=1)\n",
    "#     y_true_classes = np.argmax(y_test, axis=1)\n",
    "\n",
    "#     # Compute confusion matrix\n",
    "#     cm = confusion_matrix(y_true_classes, y_pred_classes)\n",
    "\n",
    "#     # Log confusion matrix to WandB\n",
    "#     wandb.log({\"confusion_matrix\": wandb.plot.confusion_matrix(\n",
    "#         probs=None,\n",
    "#         y_true=y_true_classes,\n",
    "#         preds=y_pred_classes,\n",
    "#         class_names=[str(i) for i in range(cm.shape[0])]\n",
    "#     )})\n",
    "\n",
    "#     print(\"✅ Confusion matrix logged in WandB!\")\n",
    "    \n",
    "#     # Finish the WandB run\n",
    "#     wandb.finish()"
   ]
  },
  {
   "cell_type": "code",
   "execution_count": null,
   "metadata": {},
   "outputs": [
    {
     "data": {
      "text/html": [
       "Changes to your `wandb` environment variables will be ignored because your `wandb` session has already started. For more information on how to modify your settings with `wandb.init()` arguments, please refer to <a href='https://wandb.me/wandb-init' target=\"_blank\">the W&B docs</a>."
      ],
      "text/plain": [
       "<IPython.core.display.HTML object>"
      ]
     },
     "metadata": {},
     "output_type": "display_data"
    },
    {
     "data": {
      "text/html": [
       "Ignoring project 'DLA1' when running a sweep."
      ],
      "text/plain": [
       "<IPython.core.display.HTML object>"
      ]
     },
     "metadata": {},
     "output_type": "display_data"
    },
    {
     "data": {
      "text/html": [
       "creating run (0.3s)"
      ],
      "text/plain": [
       "<IPython.core.display.HTML object>"
      ]
     },
     "metadata": {},
     "output_type": "display_data"
    },
    {
     "data": {
      "text/html": [
       "Tracking run with wandb version 0.19.7"
      ],
      "text/plain": [
       "<IPython.core.display.HTML object>"
      ]
     },
     "metadata": {},
     "output_type": "display_data"
    },
    {
     "data": {
      "text/html": [
       "Run data is saved locally in <code>d:\\IIT Madras\\SEM 2\\Deep Learning\\Assignment-1-DL\\wandb\\run-20250307_212237-wdayfkqw</code>"
      ],
      "text/plain": [
       "<IPython.core.display.HTML object>"
      ]
     },
     "metadata": {},
     "output_type": "display_data"
    },
    {
     "data": {
      "text/html": [
       "Syncing run <strong><a href='https://wandb.ai/da24m014-iit-madras/DLA1/runs/wdayfkqw' target=\"_blank\">confusion_matrix_run</a></strong> to <a href='https://wandb.ai/da24m014-iit-madras/DLA1' target=\"_blank\">Weights & Biases</a> (<a href='https://wandb.me/developer-guide' target=\"_blank\">docs</a>)<br>Sweep page: <a href='https://wandb.ai/da24m014-iit-madras/DLA1/sweeps/cpoa0sgc' target=\"_blank\">https://wandb.ai/da24m014-iit-madras/DLA1/sweeps/cpoa0sgc</a>"
      ],
      "text/plain": [
       "<IPython.core.display.HTML object>"
      ]
     },
     "metadata": {},
     "output_type": "display_data"
    },
    {
     "data": {
      "text/html": [
       " View project at <a href='https://wandb.ai/da24m014-iit-madras/DLA1' target=\"_blank\">https://wandb.ai/da24m014-iit-madras/DLA1</a>"
      ],
      "text/plain": [
       "<IPython.core.display.HTML object>"
      ]
     },
     "metadata": {},
     "output_type": "display_data"
    },
    {
     "data": {
      "text/html": [
       " View sweep at <a href='https://wandb.ai/da24m014-iit-madras/DLA1/sweeps/cpoa0sgc' target=\"_blank\">https://wandb.ai/da24m014-iit-madras/DLA1/sweeps/cpoa0sgc</a>"
      ],
      "text/plain": [
       "<IPython.core.display.HTML object>"
      ]
     },
     "metadata": {},
     "output_type": "display_data"
    },
    {
     "data": {
      "text/html": [
       " View run at <a href='https://wandb.ai/da24m014-iit-madras/DLA1/runs/wdayfkqw' target=\"_blank\">https://wandb.ai/da24m014-iit-madras/DLA1/runs/wdayfkqw</a>"
      ],
      "text/plain": [
       "<IPython.core.display.HTML object>"
      ]
     },
     "metadata": {},
     "output_type": "display_data"
    },
    {
     "name": "stdout",
     "output_type": "stream",
     "text": [
      "✅ Confusion matrix logged in WandB!\n"
     ]
    },
    {
     "data": {
      "text/html": [],
      "text/plain": [
       "<IPython.core.display.HTML object>"
      ]
     },
     "metadata": {},
     "output_type": "display_data"
    },
    {
     "data": {
      "text/html": [
       " View run <strong style=\"color:#cdcd00\">confusion_matrix_run</strong> at: <a href='https://wandb.ai/da24m014-iit-madras/DLA1/runs/wdayfkqw' target=\"_blank\">https://wandb.ai/da24m014-iit-madras/DLA1/runs/wdayfkqw</a><br> View project at: <a href='https://wandb.ai/da24m014-iit-madras/DLA1' target=\"_blank\">https://wandb.ai/da24m014-iit-madras/DLA1</a><br>Synced 5 W&B file(s), 1 media file(s), 2 artifact file(s) and 0 other file(s)"
      ],
      "text/plain": [
       "<IPython.core.display.HTML object>"
      ]
     },
     "metadata": {},
     "output_type": "display_data"
    },
    {
     "data": {
      "text/html": [
       "Find logs at: <code>.\\wandb\\run-20250307_212237-wdayfkqw\\logs</code>"
      ],
      "text/plain": [
       "<IPython.core.display.HTML object>"
      ]
     },
     "metadata": {},
     "output_type": "display_data"
    }
   ],
   "source": [
    "# # Step 1: Retrieve the architecture and training parameters from saved model\n",
    "# layers = best_model_data[\"params\"][\"layers\"] if \"layers\" in best_model_data[\"params\"] else None\n",
    "# learning_rate = best_model_data[\"params\"][\"learning_rate\"]\n",
    "# activation = best_model_data[\"params\"][\"activation\"]\n",
    "# optimizer = best_model_data[\"params\"][\"optimizer\"]\n",
    "# weight_init = best_model_data[\"params\"][\"weight_init\"]\n",
    "# weight_decay = best_model_data[\"params\"][\"weight_decay\"]\n",
    "# beta = best_model_data[\"params\"][\"beta\"]\n",
    "# beta1 = best_model_data[\"params\"][\"beta1\"]\n",
    "# beta2 = best_model_data[\"params\"][\"beta2\"]\n",
    "# epsilon = best_model_data[\"params\"][\"epsilon\"]\n",
    "\n",
    "# # Step 2: Recreate the NeuralNetwork model using the saved architecture\n",
    "# model = NeuralNetwork(layers, learning_rate, activation, optimizer, weight_init, weight_decay, beta, beta1, beta2, epsilon)\n",
    "\n",
    "# # Step 3: Load the saved weights and biases into the new model\n",
    "# def load_best_model(model):\n",
    "#     global best_model_data\n",
    "#     if best_model_data[\"weights\"] is not None and best_model_data[\"biases\"] is not None:\n",
    "#         model.weights = [W.copy() for W in best_model_data[\"weights\"]]\n",
    "#         model.biases = [b.copy() for b in best_model_data[\"biases\"]]\n",
    "#         print(\"✅ Best model loaded!\")\n",
    "\n",
    "# # Load the best model\n",
    "# load_best_model(model)\n",
    "\n",
    "# # Step 4: Compute Confusion Matrix and Log Results\n",
    "# log_confusion_matrix(model, x_test, y_test)\n"
   ]
  },
  {
   "cell_type": "code",
   "execution_count": null,
   "metadata": {},
   "outputs": [],
   "source": []
  }
 ],
 "metadata": {
  "kernelspec": {
   "display_name": "Python 3",
   "language": "python",
   "name": "python3"
  },
  "language_info": {
   "codemirror_mode": {
    "name": "ipython",
    "version": 3
   },
   "file_extension": ".py",
   "mimetype": "text/x-python",
   "name": "python",
   "nbconvert_exporter": "python",
   "pygments_lexer": "ipython3",
   "version": "3.11.2"
  }
 },
 "nbformat": 4,
 "nbformat_minor": 2
}
